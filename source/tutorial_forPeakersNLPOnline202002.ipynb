{
 "cells": [
  {
   "cell_type": "markdown",
   "metadata": {},
   "source": [
    "# このノートブックについて\n",
    "-----"
   ]
  },
  {
   "cell_type": "markdown",
   "metadata": {},
   "source": [
    "### 目的"
   ]
  },
  {
   "cell_type": "markdown",
   "metadata": {},
   "source": [
    "今回のハッカソンでは, 大量のツイートデータを用いて, そのツイートが実際に災害に関するツイートか、そうではないツイートかを推定してもらいます.<br>\n",
    "とはいえ, いきなりツイートの分類をするのは難しいという人もいると思いますので, どの様な流れでツイートを分類するのかを本ノートブックにまとめました.皆さんにはこのノートブックを参考に, 高い精度での推定が行えるプログラムの作成を目指してもらいます."
   ]
  },
  {
   "cell_type": "markdown",
   "metadata": {},
   "source": [
    "### このノートブックで行っていること\n",
    "- データ分析ライブラリである `numpy` `scikit-learn` に慣れる\n",
    "- 日本語を分析するためのツールである `MeCab` の使い方を学ぶ\n",
    "- 機械学習モデルの生成及び評価までの一連の流れを体得する"
   ]
  },
  {
   "cell_type": "markdown",
   "metadata": {},
   "source": [
    "## 本題 \n",
    "----"
   ]
  },
  {
   "cell_type": "markdown",
   "metadata": {},
   "source": [
    "\n",
    "### 目次\n",
    "1. 必要なライブラリ・データの読み込み\n",
    "2. 日本語の形態素解析\n",
    "3. データの確認/可視化\n",
    "4. データの整形、モデルの作成と精度評価\n",
    "5. 作成したモデルによる新データの分類\n",
    "6. 終わりに\n",
    "-----"
   ]
  },
  {
   "cell_type": "markdown",
   "metadata": {},
   "source": [
    "-----\n",
    "## 1. 必要なライブラリ・データの読み込み\n",
    "\n",
    "まずはじめにデータ分析ライブラリである pandas, numpy, 日本語解析ライブラリである Mecab をimportします "
   ]
  },
  {
   "cell_type": "code",
   "execution_count": 1,
   "metadata": {},
   "outputs": [],
   "source": [
    "# Mecabをインポートしてない方はこちらのqiitaを参考にしてみてください\n",
    "# https://qiita.com/Sak1361/items/47e9ec464ccc770cd65c\n",
    "\n",
    "# Google Colaboratoryを使う方はこちらを参考にしてみてください\n",
    "# https://qiita.com/Fulltea/items/90f6ebe6dcceaf64eaef\n",
    "\n",
    "import numpy as np\n",
    "import pandas as pd\n",
    "import MeCab\n",
    "import re"
   ]
  },
  {
   "cell_type": "markdown",
   "metadata": {},
   "source": [
    "#### 次に, 今回利用するデータをアップロードし, ノートブック上で読み込みます\n",
    "別途配布してあるtrain.csvとtest.csvをcolaboratoryにアップロードし読み込みを行います．"
   ]
  },
  {
   "cell_type": "code",
   "execution_count": 2,
   "metadata": {},
   "outputs": [
    {
     "data": {
      "text/html": [
       "<div>\n",
       "<style scoped>\n",
       "    .dataframe tbody tr th:only-of-type {\n",
       "        vertical-align: middle;\n",
       "    }\n",
       "\n",
       "    .dataframe tbody tr th {\n",
       "        vertical-align: top;\n",
       "    }\n",
       "\n",
       "    .dataframe thead th {\n",
       "        text-align: right;\n",
       "    }\n",
       "</style>\n",
       "<table border=\"1\" class=\"dataframe\">\n",
       "  <thead>\n",
       "    <tr style=\"text-align: right;\">\n",
       "      <th></th>\n",
       "      <th>id</th>\n",
       "      <th>flg</th>\n",
       "      <th>keyword</th>\n",
       "      <th>location</th>\n",
       "      <th>text</th>\n",
       "    </tr>\n",
       "  </thead>\n",
       "  <tbody>\n",
       "    <tr>\n",
       "      <th>0</th>\n",
       "      <td>20587</td>\n",
       "      <td>0</td>\n",
       "      <td>覚醒剤</td>\n",
       "      <td>icon:大トロ(@sato_wall_aim )</td>\n",
       "      <td>【マイリスト】カカカカ覚醒剤 https://t.co/15ZY9Oa2QS #sm3630...</td>\n",
       "    </tr>\n",
       "    <tr>\n",
       "      <th>1</th>\n",
       "      <td>31857</td>\n",
       "      <td>0</td>\n",
       "      <td>雷 落雷</td>\n",
       "      <td>ジャングル</td>\n",
       "      <td>@kenjikenji3343 せやな　落雷撃たれたら全員張り付くしかなかったからなぁ　なん...</td>\n",
       "    </tr>\n",
       "    <tr>\n",
       "      <th>2</th>\n",
       "      <td>36793</td>\n",
       "      <td>0</td>\n",
       "      <td>血液</td>\n",
       "      <td>↓↓↓↓↓こちらをクリック↓↓↓↓</td>\n",
       "      <td>【カフェインの力】 体を動かす前にカフェインを摂ると交感神経が刺激され、体内の脂肪が分解され...</td>\n",
       "    </tr>\n",
       "    <tr>\n",
       "      <th>3</th>\n",
       "      <td>42299</td>\n",
       "      <td>0</td>\n",
       "      <td>ハリケーン</td>\n",
       "      <td>Close to your heart</td>\n",
       "      <td>あなたの鼓膜に直に響かせたい ハリケーンのように激しく愛したい 余計な壁なんて取っ払って　奥...</td>\n",
       "    </tr>\n",
       "    <tr>\n",
       "      <th>4</th>\n",
       "      <td>51449</td>\n",
       "      <td>0</td>\n",
       "      <td>殺人鬼</td>\n",
       "      <td>偽物なので悪しからず</td>\n",
       "      <td>@Mr8yt 違う違う。お化けは現実にいないけど殺人鬼は現実にいるじゃん〜。うーん、ホラーっ...</td>\n",
       "    </tr>\n",
       "  </tbody>\n",
       "</table>\n",
       "</div>"
      ],
      "text/plain": [
       "      id  flg keyword                   location  \\\n",
       "0  20587    0     覚醒剤  icon:大トロ(@sato_wall_aim )   \n",
       "1  31857    0    雷 落雷                      ジャングル   \n",
       "2  36793    0      血液          ↓↓↓↓↓こちらをクリック↓↓↓↓   \n",
       "3  42299    0   ハリケーン        Close to your heart   \n",
       "4  51449    0     殺人鬼                 偽物なので悪しからず   \n",
       "\n",
       "                                                text  \n",
       "0  【マイリスト】カカカカ覚醒剤 https://t.co/15ZY9Oa2QS #sm3630...  \n",
       "1  @kenjikenji3343 せやな　落雷撃たれたら全員張り付くしかなかったからなぁ　なん...  \n",
       "2  【カフェインの力】 体を動かす前にカフェインを摂ると交感神経が刺激され、体内の脂肪が分解され...  \n",
       "3  あなたの鼓膜に直に響かせたい ハリケーンのように激しく愛したい 余計な壁なんて取っ払って　奥...  \n",
       "4  @Mr8yt 違う違う。お化けは現実にいないけど殺人鬼は現実にいるじゃん〜。うーん、ホラーっ...  "
      ]
     },
     "execution_count": 2,
     "metadata": {},
     "output_type": "execute_result"
    }
   ],
   "source": [
    "# dataフォルダに今回配布されたデータを置いています\n",
    "df_train = pd.read_csv('./data/1.train_data.csv')\n",
    "df_test = pd.read_csv('./data/2.test_data.csv')\n",
    "\n",
    "# 訓練用データの先頭5行を表示します．\n",
    "df_train.head()"
   ]
  },
  {
   "cell_type": "code",
   "execution_count": 3,
   "metadata": {},
   "outputs": [
    {
     "data": {
      "text/html": [
       "<div>\n",
       "<style scoped>\n",
       "    .dataframe tbody tr th:only-of-type {\n",
       "        vertical-align: middle;\n",
       "    }\n",
       "\n",
       "    .dataframe tbody tr th {\n",
       "        vertical-align: top;\n",
       "    }\n",
       "\n",
       "    .dataframe thead th {\n",
       "        text-align: right;\n",
       "    }\n",
       "</style>\n",
       "<table border=\"1\" class=\"dataframe\">\n",
       "  <thead>\n",
       "    <tr style=\"text-align: right;\">\n",
       "      <th></th>\n",
       "      <th>id</th>\n",
       "      <th>keyword</th>\n",
       "      <th>location</th>\n",
       "      <th>text</th>\n",
       "    </tr>\n",
       "  </thead>\n",
       "  <tbody>\n",
       "    <tr>\n",
       "      <th>0</th>\n",
       "      <td>25429</td>\n",
       "      <td>避難した</td>\n",
       "      <td>日本</td>\n",
       "      <td>@adachib 反原発によるエビデンスのない恐怖や不安煽りで自主避難した人を蹴落とすのかな？</td>\n",
       "    </tr>\n",
       "    <tr>\n",
       "      <th>1</th>\n",
       "      <td>40004</td>\n",
       "      <td>火災</td>\n",
       "      <td>NaN</td>\n",
       "      <td>通行止【2月2日14:25現在】八戸道  安代ＪＣＴ〜浄法寺ＩＣ (下り北行) 火災による通...</td>\n",
       "    </tr>\n",
       "    <tr>\n",
       "      <th>2</th>\n",
       "      <td>33451</td>\n",
       "      <td>目撃者</td>\n",
       "      <td>NaN</td>\n",
       "      <td>君は死ななくてはならないんだ…目撃者は生かしておけないよ…誰ひとりとしてこの『吉良吉影』の正...</td>\n",
       "    </tr>\n",
       "    <tr>\n",
       "      <th>3</th>\n",
       "      <td>44781</td>\n",
       "      <td>負傷者</td>\n",
       "      <td>えいてぃーん / ic → りーふさん</td>\n",
       "      <td>寸止めガチ勢任せてください。(負傷者2人以上の技師本体は無理)</td>\n",
       "    </tr>\n",
       "    <tr>\n",
       "      <th>4</th>\n",
       "      <td>27007</td>\n",
       "      <td>衝突</td>\n",
       "      <td>ハリー先生の元</td>\n",
       "      <td>暇だったのでみんなでごっこ遊びをしていた時 ハリー「おっと、それ以上近づくと軽快なBGMと共...</td>\n",
       "    </tr>\n",
       "  </tbody>\n",
       "</table>\n",
       "</div>"
      ],
      "text/plain": [
       "      id keyword             location  \\\n",
       "0  25429    避難した                   日本   \n",
       "1  40004      火災                  NaN   \n",
       "2  33451     目撃者                  NaN   \n",
       "3  44781     負傷者  えいてぃーん / ic → りーふさん   \n",
       "4  27007      衝突              ハリー先生の元   \n",
       "\n",
       "                                                text  \n",
       "0    @adachib 反原発によるエビデンスのない恐怖や不安煽りで自主避難した人を蹴落とすのかな？  \n",
       "1  通行止【2月2日14:25現在】八戸道  安代ＪＣＴ〜浄法寺ＩＣ (下り北行) 火災による通...  \n",
       "2  君は死ななくてはならないんだ…目撃者は生かしておけないよ…誰ひとりとしてこの『吉良吉影』の正...  \n",
       "3                    寸止めガチ勢任せてください。(負傷者2人以上の技師本体は無理)  \n",
       "4  暇だったのでみんなでごっこ遊びをしていた時 ハリー「おっと、それ以上近づくと軽快なBGMと共...  "
      ]
     },
     "execution_count": 3,
     "metadata": {},
     "output_type": "execute_result"
    }
   ],
   "source": [
    "# テスト用データの先頭5行を表示します．\n",
    "df_test.head()"
   ]
  },
  {
   "cell_type": "markdown",
   "metadata": {},
   "source": [
    "__各カラムの説明__\n",
    "\n",
    "- `id` はツイートのidです．このidに対してそのツイートが災害に関するものかを推定してもらいます\n",
    "- `flg` は今回の目的変数です．災害に関するものなら「１」，そうでないものなら「０」です\n",
    "- `keyword` はそのツイートのキーワードを表しています\n",
    "- `location` はツイートしたユーザーのtwitterのプロフィールにある位置情報です\n",
    "- `text` はツイート本体です"
   ]
  },
  {
   "cell_type": "code",
   "execution_count": 4,
   "metadata": {},
   "outputs": [
    {
     "data": {
      "text/plain": [
       "(20285, 5)"
      ]
     },
     "execution_count": 4,
     "metadata": {},
     "output_type": "execute_result"
    }
   ],
   "source": [
    "df_train.shape"
   ]
  },
  {
   "cell_type": "code",
   "execution_count": 5,
   "metadata": {},
   "outputs": [
    {
     "data": {
      "text/plain": [
       "(13524, 4)"
      ]
     },
     "execution_count": 5,
     "metadata": {},
     "output_type": "execute_result"
    }
   ],
   "source": [
    "df_test.shape"
   ]
  },
  {
   "cell_type": "code",
   "execution_count": 6,
   "metadata": {},
   "outputs": [
    {
     "data": {
      "text/plain": [
       "0    18851\n",
       "1     1434\n",
       "Name: flg, dtype: int64"
      ]
     },
     "execution_count": 6,
     "metadata": {},
     "output_type": "execute_result"
    }
   ],
   "source": [
    "# 目的変数の確認\n",
    "\n",
    "df_train['flg'].value_counts()"
   ]
  },
  {
   "cell_type": "markdown",
   "metadata": {},
   "source": [
    "不均衡なデータであることがわかります．"
   ]
  },
  {
   "cell_type": "code",
   "execution_count": 7,
   "metadata": {},
   "outputs": [
    {
     "data": {
      "text/plain": [
       "id             0\n",
       "flg            0\n",
       "keyword        0\n",
       "location    8466\n",
       "text           0\n",
       "dtype: int64"
      ]
     },
     "execution_count": 7,
     "metadata": {},
     "output_type": "execute_result"
    }
   ],
   "source": [
    "# 訓練用データの欠損値の確認をします．\n",
    "\n",
    "df_train.isnull().sum()"
   ]
  },
  {
   "cell_type": "code",
   "execution_count": 8,
   "metadata": {},
   "outputs": [
    {
     "data": {
      "text/plain": [
       "id             0\n",
       "keyword        0\n",
       "location    5580\n",
       "text           0\n",
       "dtype: int64"
      ]
     },
     "execution_count": 8,
     "metadata": {},
     "output_type": "execute_result"
    }
   ],
   "source": [
    "# テスト用データの欠損値の確認をします．\n",
    "\n",
    "df_test.isnull().sum()"
   ]
  },
  {
   "cell_type": "markdown",
   "metadata": {},
   "source": [
    "locationにいくつかの欠損値があることがわかります．<br>\n",
    "このチュートリアルではtextのみを用いて，分類していくことを考えます．"
   ]
  },
  {
   "cell_type": "markdown",
   "metadata": {},
   "source": [
    "-----\n",
    "## 2. 日本語の形態素解析\n",
    "この記事データにはテキストデータが含まれており, これをこのまま機械学習モデルに適用することはできません.<br>\n",
    "まず, 日本語を形態素という単位に分割し分析を行います."
   ]
  },
  {
   "cell_type": "code",
   "execution_count": 9,
   "metadata": {},
   "outputs": [
    {
     "name": "stdout",
     "output_type": "stream",
     "text": [
      "固有名詞\n",
      "連体化\n",
      "形容動詞語幹\n",
      "一般\n",
      "サ変接続\n",
      "一般\n",
      "格助詞\n",
      "*\n",
      "一般\n"
     ]
    }
   ],
   "source": [
    "# 形態素解析を行うためのライブラリを初期化\n",
    "tagger = MeCab.Tagger()\n",
    "\n",
    "# 試しに形態素解析してみる\n",
    "for morph in tagger.parse('Peakersの自然言語処理ハッカソンへようこそ！').rstrip().split('\\n')[:-1]:\n",
    "    print(morph.split(',')[1])"
   ]
  },
  {
   "cell_type": "markdown",
   "metadata": {},
   "source": [
    "形態素解析を行うことで文を単語単位に分割できる他, 単語の品詞などの情報を取得することが可能になります.<br>\n",
    "文章分類などではこのように分割された単語を用います.<br>\n",
    "<br>\n",
    "今回はタイトル中の単語をスペース区切りの文字列に直す処理を読み込んだデータに行ってみます."
   ]
  },
  {
   "cell_type": "code",
   "execution_count": 10,
   "metadata": {},
   "outputs": [
    {
     "name": "stdout",
     "output_type": "stream",
     "text": [
      "Peakers の 自然 言語 処理 ハッカソン へ ようこそ ！ \n",
      "\n"
     ]
    }
   ],
   "source": [
    "# 先ほどの例を単語単位に分割します（これを分かち書きと言います）．\n",
    "\n",
    "mecab = MeCab.Tagger('-Owakati')\n",
    "text = mecab.parse('Peakersの自然言語処理ハッカソンへようこそ！')\n",
    "print(text)"
   ]
  },
  {
   "cell_type": "code",
   "execution_count": 11,
   "metadata": {},
   "outputs": [
    {
     "data": {
      "text/html": [
       "<div>\n",
       "<style scoped>\n",
       "    .dataframe tbody tr th:only-of-type {\n",
       "        vertical-align: middle;\n",
       "    }\n",
       "\n",
       "    .dataframe tbody tr th {\n",
       "        vertical-align: top;\n",
       "    }\n",
       "\n",
       "    .dataframe thead th {\n",
       "        text-align: right;\n",
       "    }\n",
       "</style>\n",
       "<table border=\"1\" class=\"dataframe\">\n",
       "  <thead>\n",
       "    <tr style=\"text-align: right;\">\n",
       "      <th></th>\n",
       "      <th>id</th>\n",
       "      <th>flg</th>\n",
       "      <th>keyword</th>\n",
       "      <th>location</th>\n",
       "      <th>text</th>\n",
       "    </tr>\n",
       "  </thead>\n",
       "  <tbody>\n",
       "    <tr>\n",
       "      <th>0</th>\n",
       "      <td>20587</td>\n",
       "      <td>0</td>\n",
       "      <td>覚醒剤</td>\n",
       "      <td>icon:大トロ(@sato_wall_aim )</td>\n",
       "      <td>【 マイ リスト 】 カカカカ 覚醒剤 https :// t . co / 15 ZY 9...</td>\n",
       "    </tr>\n",
       "    <tr>\n",
       "      <th>1</th>\n",
       "      <td>31857</td>\n",
       "      <td>0</td>\n",
       "      <td>雷 落雷</td>\n",
       "      <td>ジャングル</td>\n",
       "      <td>@ kenjikenji 3343 せ や な 　 落雷 撃た れ たら 全員 張り付く し...</td>\n",
       "    </tr>\n",
       "    <tr>\n",
       "      <th>2</th>\n",
       "      <td>36793</td>\n",
       "      <td>0</td>\n",
       "      <td>血液</td>\n",
       "      <td>↓↓↓↓↓こちらをクリック↓↓↓↓</td>\n",
       "      <td>【 カフェイン の 力 】 体 を 動かす 前 に カフェイン を 摂る と 交感神経 が ...</td>\n",
       "    </tr>\n",
       "    <tr>\n",
       "      <th>3</th>\n",
       "      <td>42299</td>\n",
       "      <td>0</td>\n",
       "      <td>ハリケーン</td>\n",
       "      <td>Close to your heart</td>\n",
       "      <td>あなた の 鼓膜 に 直に 響かせ たい ハリケーン の よう に 激しく 愛し たい 余計...</td>\n",
       "    </tr>\n",
       "    <tr>\n",
       "      <th>4</th>\n",
       "      <td>51449</td>\n",
       "      <td>0</td>\n",
       "      <td>殺人鬼</td>\n",
       "      <td>偽物なので悪しからず</td>\n",
       "      <td>@ Mr 8 yt 違う 違う 。 お化け は 現実 に い ない けど 殺人 鬼 は 現実...</td>\n",
       "    </tr>\n",
       "  </tbody>\n",
       "</table>\n",
       "</div>"
      ],
      "text/plain": [
       "      id  flg keyword                   location  \\\n",
       "0  20587    0     覚醒剤  icon:大トロ(@sato_wall_aim )   \n",
       "1  31857    0    雷 落雷                      ジャングル   \n",
       "2  36793    0      血液          ↓↓↓↓↓こちらをクリック↓↓↓↓   \n",
       "3  42299    0   ハリケーン        Close to your heart   \n",
       "4  51449    0     殺人鬼                 偽物なので悪しからず   \n",
       "\n",
       "                                                text  \n",
       "0  【 マイ リスト 】 カカカカ 覚醒剤 https :// t . co / 15 ZY 9...  \n",
       "1  @ kenjikenji 3343 せ や な 　 落雷 撃た れ たら 全員 張り付く し...  \n",
       "2  【 カフェイン の 力 】 体 を 動かす 前 に カフェイン を 摂る と 交感神経 が ...  \n",
       "3  あなた の 鼓膜 に 直に 響かせ たい ハリケーン の よう に 激しく 愛し たい 余計...  \n",
       "4  @ Mr 8 yt 違う 違う 。 お化け は 現実 に い ない けど 殺人 鬼 は 現実...  "
      ]
     },
     "execution_count": 11,
     "metadata": {},
     "output_type": "execute_result"
    }
   ],
   "source": [
    "# この関数を使って，textを分かち書きします．\n",
    "# applyをすることでtextの1行1行に対して，分かち書きできます．\n",
    "\n",
    "mecab = MeCab.Tagger('-Owakati')\n",
    "df_train['text'] = df_train['text'].apply(mecab.parse)\n",
    "df_train.head()"
   ]
  },
  {
   "cell_type": "code",
   "execution_count": 12,
   "metadata": {},
   "outputs": [
    {
     "data": {
      "text/plain": [
       "'【 マイ リスト 】 カカカカ 覚醒剤 https :// t . co / 15 ZY 9 Oa 2 QS # sm 36302050 \\n'"
      ]
     },
     "execution_count": 12,
     "metadata": {},
     "output_type": "execute_result"
    }
   ],
   "source": [
    "df_train['text'].iloc[0]"
   ]
  },
  {
   "cell_type": "markdown",
   "metadata": {},
   "source": [
    "元のtextに対して正しく単語分割ができているということが確認できます．"
   ]
  },
  {
   "cell_type": "markdown",
   "metadata": {},
   "source": [
    "-----\n",
    "## 3. データの確認/可視化\n",
    "\n",
    "単語に分割したとはいえ, これをこのまま分類に使ってもあまり良い精度は出ないでしょう.<br>\n",
    "どんな単語が特徴となるのかを事前に確認することで, より高い精度を望めます.<br>\n",
    "<br>\n",
    "今回はflgごとにtextでどんな単語が頻出しているのかを見てみましょう."
   ]
  },
  {
   "cell_type": "code",
   "execution_count": 13,
   "metadata": {},
   "outputs": [
    {
     "data": {
      "text/plain": [
       "[('の', 30066),\n",
       " ('に', 19550),\n",
       " ('て', 19334),\n",
       " ('、', 19116),\n",
       " ('\\n', 18851),\n",
       " ('が', 16928),\n",
       " ('た', 16390),\n",
       " ('。', 16245),\n",
       " ('は', 15473),\n",
       " ('を', 13147),\n",
       " ('で', 12866),\n",
       " ('し', 11912),\n",
       " ('と', 9816),\n",
       " ('！', 6893),\n",
       " ('も', 6870),\n",
       " ('な', 6818),\n",
       " ('ない', 6682),\n",
       " ('@', 5776),\n",
       " ('…', 5762),\n",
       " ('だ', 5435)]"
      ]
     },
     "execution_count": 13,
     "metadata": {},
     "output_type": "execute_result"
    }
   ],
   "source": [
    "from collections import Counter\n",
    "\n",
    "# targetが「0」つまり，災害に関係ないツイートの上位20件の頻出単語です\n",
    "\n",
    "df_train.groupby('flg')['text'].apply(lambda x: Counter(' '.join(x).split(' ')).most_common(n=20)).iloc[0]"
   ]
  },
  {
   "cell_type": "code",
   "execution_count": 14,
   "metadata": {},
   "outputs": [
    {
     "data": {
      "text/plain": [
       "[('の', 2270),\n",
       " ('、', 1654),\n",
       " ('.', 1570),\n",
       " ('\\n', 1434),\n",
       " ('が', 1385),\n",
       " ('。', 1280),\n",
       " ('/', 1258),\n",
       " ('t', 1199),\n",
       " ('は', 1177),\n",
       " ('https', 1126),\n",
       " ('://', 1126),\n",
       " ('co', 1126),\n",
       " ('で', 1062),\n",
       " ('#', 1046),\n",
       " ('た', 1026),\n",
       " ('に', 956),\n",
       " ('て', 784),\n",
       " ('し', 709),\n",
       " ('と', 662),\n",
       " ('を', 650)]"
      ]
     },
     "execution_count": 14,
     "metadata": {},
     "output_type": "execute_result"
    }
   ],
   "source": [
    "# targetが「1」つまり，災害に関係ないツイートの上位20件の頻出単語です\n",
    "\n",
    "df_train.groupby('flg')['text'].apply(lambda x: Counter(' '.join(x).split(' ')).most_common(n=20)).iloc[1]"
   ]
  },
  {
   "cell_type": "markdown",
   "metadata": {},
   "source": [
    "抽出されたデータを確認すると、「の」や「、」といったがん語がどのtextでも多く使われています．<br>\n",
    "つまり，このような単語は文書を分類する上では邪魔なノイズにしかならないということがわかります．<br>\n",
    "\n",
    "このような頻出単語は「__ストップワード__」と呼ばれ、事前にこれらの単語を除外する必要があると知られています．<br>\n",
    "ストップワードを除去してみます．"
   ]
  },
  {
   "cell_type": "code",
   "execution_count": 15,
   "metadata": {},
   "outputs": [
    {
     "data": {
      "text/plain": [
       "[('\\n', 18851),\n",
       " ('し', 11912),\n",
       " ('と', 9816),\n",
       " ('！', 6893),\n",
       " ('も', 6870),\n",
       " ('な', 6818),\n",
       " ('ない', 6682),\n",
       " ('@', 5776),\n",
       " ('…', 5762),\n",
       " ('だ', 5435),\n",
       " ('/', 5244),\n",
       " ('.', 5139),\n",
       " ('から', 5042),\n",
       " ('か', 4790),\n",
       " ('t', 4725),\n",
       " ('co', 4621),\n",
       " ('://', 4618),\n",
       " ('https', 4615),\n",
       " ('「', 4404),\n",
       " ('」', 4258)]"
      ]
     },
     "execution_count": 15,
     "metadata": {},
     "output_type": "execute_result"
    }
   ],
   "source": [
    "# targetが「0」の場合の上位10件の頻出単語をストップワードとして指定します\n",
    "stop_words = set([\n",
    "    'の', 'に', 'て', '、', 'が', 'た', '。', 'は', 'を', 'で'\n",
    "])\n",
    "\n",
    "df_train.groupby('flg')['text'].apply(lambda x: Counter([w for w in ' '.join(x).split(' ') if w not in stop_words]).most_common(n=20)).iloc[0]"
   ]
  },
  {
   "cell_type": "code",
   "execution_count": 16,
   "metadata": {},
   "outputs": [
    {
     "data": {
      "text/plain": [
       "[('.', 1570),\n",
       " ('\\n', 1434),\n",
       " ('/', 1258),\n",
       " ('t', 1199),\n",
       " ('https', 1126),\n",
       " ('://', 1126),\n",
       " ('co', 1126),\n",
       " ('#', 1046),\n",
       " ('し', 709),\n",
       " ('と', 662),\n",
       " ('地震', 565),\n",
       " ('\\u3000', 561),\n",
       " ('人', 549),\n",
       " ('1', 504),\n",
       " ('さ', 481),\n",
       " ('2', 478),\n",
       " ('震源', 465),\n",
       " ('市', 463),\n",
       " ('：', 451),\n",
       " ('・', 417)]"
      ]
     },
     "execution_count": 16,
     "metadata": {},
     "output_type": "execute_result"
    }
   ],
   "source": [
    "df_train.groupby('flg')['text'].apply(lambda x: Counter([w for w in ' '.join(x).split(' ') if w not in stop_words]).most_common(n=20)).iloc[1]"
   ]
  },
  {
   "cell_type": "markdown",
   "metadata": {},
   "source": [
    "まだだいぶノイズが残っていますが, 全体的な傾向はわかると思います. 例えば\n",
    "- `target` が 0 のツイートは@が多いので，返信されたツイートが多そう\n",
    "- `target` が 1 のツイートは地震，震源などの文字が多く含まれていることから地震に関係があるのが多そう\n",
    "\n",
    "など，このように, 事前にデータを分析し, 特徴を掴むことが機械学習を適用する上では重要となります.<br>\n",
    "<br>\n",
    "それ以外にも, 実際のテキストを眺めて見るだけでもなにか発見があるかもしれません."
   ]
  },
  {
   "cell_type": "markdown",
   "metadata": {},
   "source": [
    "-----\n",
    "## 4. データの整形、モデルの作成と精度評価\n",
    "\n",
    "ここから実際に予測モデルを作るためにデータを整形していきます."
   ]
  },
  {
   "cell_type": "markdown",
   "metadata": {},
   "source": [
    "### データの分割\n",
    "\n",
    "全てのデータを学習に使ってしまうと, 学習したデータと同じデータを用いて評価を行うことになり, 正しく学習器の性能を評価することができません.<br>\n",
    "そこでデータを` トレーニング用/バリデーション用`に `80%:20%` 分割しましょう."
   ]
  },
  {
   "cell_type": "code",
   "execution_count": 17,
   "metadata": {},
   "outputs": [
    {
     "data": {
      "text/html": [
       "<div>\n",
       "<style scoped>\n",
       "    .dataframe tbody tr th:only-of-type {\n",
       "        vertical-align: middle;\n",
       "    }\n",
       "\n",
       "    .dataframe tbody tr th {\n",
       "        vertical-align: top;\n",
       "    }\n",
       "\n",
       "    .dataframe thead th {\n",
       "        text-align: right;\n",
       "    }\n",
       "</style>\n",
       "<table border=\"1\" class=\"dataframe\">\n",
       "  <thead>\n",
       "    <tr style=\"text-align: right;\">\n",
       "      <th></th>\n",
       "      <th>id</th>\n",
       "      <th>flg</th>\n",
       "      <th>keyword</th>\n",
       "      <th>location</th>\n",
       "      <th>text</th>\n",
       "    </tr>\n",
       "  </thead>\n",
       "  <tbody>\n",
       "    <tr>\n",
       "      <th>0</th>\n",
       "      <td>24134</td>\n",
       "      <td>0</td>\n",
       "      <td>バイオテロ</td>\n",
       "      <td>甘兎庵の隣の超絶美少女が住んでいる家の屋根裏</td>\n",
       "      <td>もはや バイオ テロ やん け \\n</td>\n",
       "    </tr>\n",
       "    <tr>\n",
       "      <th>1</th>\n",
       "      <td>49551</td>\n",
       "      <td>0</td>\n",
       "      <td>テロ</td>\n",
       "      <td>FF14 Tiamat</td>\n",
       "      <td>@ Titayamountain この 時間 に 飯 テロ •••• だ と ••••? \\n</td>\n",
       "    </tr>\n",
       "    <tr>\n",
       "      <th>2</th>\n",
       "      <td>49849</td>\n",
       "      <td>0</td>\n",
       "      <td>警察</td>\n",
       "      <td>NaN</td>\n",
       "      <td>「 スイーツ 警察 だ ！ 二 日 連続 で お 高い ショコラータ を もぐもぐ し て ...</td>\n",
       "    </tr>\n",
       "    <tr>\n",
       "      <th>3</th>\n",
       "      <td>32679</td>\n",
       "      <td>0</td>\n",
       "      <td>豪雨</td>\n",
       "      <td>NaN</td>\n",
       "      <td>すごい です ね フェイク 情報 で 加計 学園 が 岡山 の 恥 と 言い捨てる ん です...</td>\n",
       "    </tr>\n",
       "    <tr>\n",
       "      <th>4</th>\n",
       "      <td>37818</td>\n",
       "      <td>0</td>\n",
       "      <td>騒乱</td>\n",
       "      <td>NaN</td>\n",
       "      <td>中国 の 新型 肺炎 、 イスラエル で 「 生物 兵器 の 可能 性 」 指摘 さ れる ...</td>\n",
       "    </tr>\n",
       "  </tbody>\n",
       "</table>\n",
       "</div>"
      ],
      "text/plain": [
       "      id  flg keyword                location  \\\n",
       "0  24134    0   バイオテロ  甘兎庵の隣の超絶美少女が住んでいる家の屋根裏   \n",
       "1  49551    0      テロ             FF14 Tiamat   \n",
       "2  49849    0      警察                     NaN   \n",
       "3  32679    0      豪雨                     NaN   \n",
       "4  37818    0      騒乱                     NaN   \n",
       "\n",
       "                                                text  \n",
       "0                                 もはや バイオ テロ やん け \\n  \n",
       "1    @ Titayamountain この 時間 に 飯 テロ •••• だ と ••••? \\n  \n",
       "2  「 スイーツ 警察 だ ！ 二 日 連続 で お 高い ショコラータ を もぐもぐ し て ...  \n",
       "3  すごい です ね フェイク 情報 で 加計 学園 が 岡山 の 恥 と 言い捨てる ん です...  \n",
       "4  中国 の 新型 肺炎 、 イスラエル で 「 生物 兵器 の 可能 性 」 指摘 さ れる ...  "
      ]
     },
     "execution_count": 17,
     "metadata": {},
     "output_type": "execute_result"
    }
   ],
   "source": [
    "from sklearn.model_selection import train_test_split\n",
    "\n",
    "# トレーニング用データをトレーニング用/バリデーション用に分割，バリデーションは2割分\n",
    "train_df, val_df = train_test_split(df_train, test_size=0.2, random_state=0)\n",
    "\n",
    "# indexをリセットする\n",
    "train_df = train_df.reset_index(drop=True)\n",
    "val_df = val_df.reset_index(drop=True)\n",
    "train_df.head()"
   ]
  },
  {
   "cell_type": "code",
   "execution_count": 18,
   "metadata": {},
   "outputs": [
    {
     "data": {
      "text/plain": [
       "(16228, 5)"
      ]
     },
     "execution_count": 18,
     "metadata": {},
     "output_type": "execute_result"
    }
   ],
   "source": [
    "train_df.shape"
   ]
  },
  {
   "cell_type": "markdown",
   "metadata": {},
   "source": [
    "### Bag of Words モデルの作成\n",
    "今回は簡単な `Bag of Words` ( `BoW` ) モデルで分類を行ってみます.<br>\n",
    "`BoW` は単純にテキスト内に出現する単語の回数を数え上げて特徴量にするものです.<br>\n",
    "<br>\n",
    "`BoW` は機械学習ライブラリである `scikit-learn` の `CountVectorizer` を用いることで簡単に取得が可能です."
   ]
  },
  {
   "cell_type": "code",
   "execution_count": 19,
   "metadata": {},
   "outputs": [
    {
     "data": {
      "text/plain": [
       "CountVectorizer(analyzer='word', binary=False, decode_error='strict',\n",
       "                dtype=<class 'numpy.int64'>, encoding='utf-8', input='content',\n",
       "                lowercase=True, max_df=1.0, max_features=None, min_df=1,\n",
       "                ngram_range=(1, 1), preprocessor=None, stop_words=None,\n",
       "                strip_accents=None, token_pattern='(?u)\\\\b\\\\w\\\\w+\\\\b',\n",
       "                tokenizer=None, vocabulary=None)"
      ]
     },
     "execution_count": 19,
     "metadata": {},
     "output_type": "execute_result"
    }
   ],
   "source": [
    "from sklearn.feature_extraction.text import TfidfVectorizer, CountVectorizer\n",
    "\n",
    "# CountVectorizerを定義します\n",
    "cv = CountVectorizer()\n",
    "\n",
    "# CountVectorizerに訓練用のtextを学習させます\n",
    "cv.fit(train_df['text'].values)"
   ]
  },
  {
   "cell_type": "markdown",
   "metadata": {},
   "source": [
    "どんな単語が特徴量になったかは `get_feature_names` 関数で取得可能です. <br>\n",
    "ソートされているため先頭を見ても数字しかありませんが、タイトルに存在するすべての単語が特徴量になっています. "
   ]
  },
  {
   "cell_type": "code",
   "execution_count": 20,
   "metadata": {},
   "outputs": [
    {
     "data": {
      "text/plain": [
       "['00',\n",
       " '000',\n",
       " '00000',\n",
       " '000000',\n",
       " '0000008',\n",
       " '00003',\n",
       " '0002',\n",
       " '001',\n",
       " '0012',\n",
       " '0018']"
      ]
     },
     "execution_count": 20,
     "metadata": {},
     "output_type": "execute_result"
    }
   ],
   "source": [
    "cv.get_feature_names()[:10]"
   ]
  },
  {
   "cell_type": "markdown",
   "metadata": {},
   "source": [
    "もしかしたら, 先程用いた「__ストップワード__」のテクニックを用いるともっといい精度が出るかもしれません."
   ]
  },
  {
   "cell_type": "code",
   "execution_count": 21,
   "metadata": {},
   "outputs": [],
   "source": [
    "from scipy.sparse import csr_matrix\n",
    "\n",
    "# トレーニング用データにCountVectorizerを適用\n",
    "X_train = cv.transform(train_df['text'].values)\n",
    "y_train = train_df['flg'].values\n",
    "\n",
    "# バリデーション用データにCountVectorizerを適用\n",
    "X_val = cv.transform(val_df['text'].values)\n",
    "y_val = val_df['flg'].values"
   ]
  },
  {
   "cell_type": "markdown",
   "metadata": {},
   "source": [
    "今回は線形SVMを使ってモデルを生成してみましょう"
   ]
  },
  {
   "cell_type": "code",
   "execution_count": 22,
   "metadata": {},
   "outputs": [
    {
     "name": "stderr",
     "output_type": "stream",
     "text": [
      "/Users/suzukihiroto/anaconda3/lib/python3.6/site-packages/sklearn/svm/base.py:929: ConvergenceWarning: Liblinear failed to converge, increase the number of iterations.\n",
      "  \"the number of iterations.\", ConvergenceWarning)\n"
     ]
    },
    {
     "data": {
      "text/plain": [
       "LinearSVC(C=1.0, class_weight=None, dual=True, fit_intercept=True,\n",
       "          intercept_scaling=1, loss='squared_hinge', max_iter=1000,\n",
       "          multi_class='ovr', penalty='l2', random_state=0, tol=0.0001,\n",
       "          verbose=0)"
      ]
     },
     "execution_count": 22,
     "metadata": {},
     "output_type": "execute_result"
    }
   ],
   "source": [
    "from sklearn.svm import LinearSVC\n",
    "\n",
    "# LinearSVCを定義します(random_state=0でseed値を固定しています)\n",
    "l_svc = LinearSVC(random_state=0)\n",
    "\n",
    "# fitで学習します\n",
    "l_svc.fit(X_train, y_train)"
   ]
  },
  {
   "cell_type": "markdown",
   "metadata": {},
   "source": [
    "### 精度評価\n",
    "\n",
    "学習が終わったところで, テストデータ上で精度評価をします.\n",
    "\n",
    "分類問題における精度評価指標は様々あります. [このブログ記事](http://data.gunosy.io/entry/2016/08/05/115345)　が参考になるかと思います.\n",
    "\n",
    "scikit-learnの `classification_report` を用いることで一通り評価する事ができます"
   ]
  },
  {
   "cell_type": "code",
   "execution_count": 23,
   "metadata": {},
   "outputs": [
    {
     "name": "stdout",
     "output_type": "stream",
     "text": [
      "              precision    recall  f1-score   support\n",
      "\n",
      "           0       0.98      0.98      0.98      3784\n",
      "           1       0.71      0.71      0.71       273\n",
      "\n",
      "    accuracy                           0.96      4057\n",
      "   macro avg       0.85      0.85      0.85      4057\n",
      "weighted avg       0.96      0.96      0.96      4057\n",
      "\n"
     ]
    }
   ],
   "source": [
    "from sklearn.metrics import classification_report\n",
    "\n",
    "# l_svc.predict(X_val)で予測させています．\n",
    "# そして，y_valと予測させた結果を比べて精度評価をしています\n",
    "print(classification_report(y_val, l_svc.predict(X_val)))"
   ]
  },
  {
   "cell_type": "markdown",
   "metadata": {},
   "source": [
    "[__混合行列__ ](http://scikit-learn.org/stable/auto_examples/model_selection/plot_confusion_matrix.html)でも可視化してみましょう<br>\n",
    "※上記リンクで掲載されているサンプルコードを使用しています"
   ]
  },
  {
   "cell_type": "code",
   "execution_count": 24,
   "metadata": {},
   "outputs": [
    {
     "name": "stdout",
     "output_type": "stream",
     "text": [
      "Confusion matrix, without normalization\n",
      "[[3705   79]\n",
      " [  78  195]]\n"
     ]
    },
    {
     "data": {
      "image/png": "[encoded data removed]",
      "text/plain": [
       "<Figure size 360x360 with 2 Axes>"
      ]
     },
     "metadata": {},
     "output_type": "display_data"
    }
   ],
   "source": [
    "import matplotlib.pyplot as plt\n",
    "from sklearn.metrics import confusion_matrix\n",
    "import itertools\n",
    "%matplotlib inline\n",
    "\n",
    "def plot_confusion_matrix(cm, classes,\n",
    "                          normalize=False,\n",
    "                          title='Confusion matrix',\n",
    "                          cmap=plt.cm.Blues):\n",
    "    \"\"\"\n",
    "    This function prints and plots the confusion matrix.\n",
    "    Normalization can be applied by setting `normalize=True`.\n",
    "    \"\"\"\n",
    "    plt.imshow(cm, interpolation='nearest', cmap=cmap)\n",
    "    plt.title(title)\n",
    "    plt.colorbar()\n",
    "    tick_marks = np.arange(len(classes))\n",
    "    plt.xticks(tick_marks, classes, rotation=45)\n",
    "    plt.yticks(tick_marks, classes)\n",
    "\n",
    "    if normalize:\n",
    "        cm = cm.astype('float') / cm.sum(axis=1)[:, np.newaxis]\n",
    "        print('Normalized confusion matrix')\n",
    "    else:\n",
    "        print('Confusion matrix, without normalization')\n",
    "\n",
    "    print(cm)\n",
    "\n",
    "    thresh = cm.max() / 2.\n",
    "    for i, j in itertools.product(range(cm.shape[0]), range(cm.shape[1])):\n",
    "        plt.text(j, i, cm[i, j],\n",
    "                 horizontalalignment='center',\n",
    "                 color='white' if cm[i, j] > thresh else 'black')\n",
    "\n",
    "    plt.tight_layout()\n",
    "    plt.ylabel('True label')\n",
    "    plt.xlabel('Predicted label')\n",
    "\n",
    "# Compute confusion matrix\n",
    "cnf_matrix = confusion_matrix(y_val, l_svc.predict(X_val))\n",
    "np.set_printoptions(precision=2)\n",
    "\n",
    "# Plot non-normalized confusion matrix\n",
    "plt.figure(figsize=(5, 5))\n",
    "plot_confusion_matrix(cnf_matrix, classes=[i for i in range(2)],\n",
    "                      title='Confusion matrix, without normalization')\n",
    "\n",
    "plt.show()"
   ]
  },
  {
   "cell_type": "markdown",
   "metadata": {},
   "source": [
    "左上が真に0であって，0と予測した数，右下が真に1であって，1と予測した数を表しており，この2箇所の合計が正解した数を表しています．<br>\n",
    "逆に右上は真に0であって，1と予測した数，左下は真に1であって，0と予測した数を表しており，この2箇所の合計が不正解した数を表しています．"
   ]
  },
  {
   "cell_type": "markdown",
   "metadata": {},
   "source": [
    "-----\n",
    "## 5. 作成したモデルによる新データの分類\n",
    "\n",
    "先程までは手元のデータのみで訓練と評価を行いましたが, 今回のハッカソンではWeb上のダッシュボードで互いに精度を競い合ってもらいます。<br>\n",
    "実際に分類してもらいたい `2.test_data.csv` に対して分類を行ってWebにアップロードをしてみましょう."
   ]
  },
  {
   "cell_type": "code",
   "execution_count": 25,
   "metadata": {},
   "outputs": [],
   "source": [
    "# テストデータに対して訓練用データと同じ処理を適用しています\n",
    "mecab = MeCab.Tagger('-Owakati')\n",
    "df_test['text'] = df_test['text'].apply(mecab.parse)\n",
    "X_test = cv.transform(df_test['text'].values)\n",
    "\n",
    "# 予測しています\n",
    "predict = l_svc.predict(X_test)\n",
    "\n",
    "submission = pd.read_csv('./data/3.submission.csv')\n",
    "submission['flg'] = predict\n",
    "submission.to_csv('submission.csv', index=False)"
   ]
  },
  {
   "cell_type": "markdown",
   "metadata": {},
   "source": [
    "## 6. 終わりに \n",
    "\n",
    "\n",
    "分類の精度を上げる方法はここで紹介したもの以外にもたくさん存在します.<br>\n",
    "その方法やわからないこと、疑問に思ったことは自分で調べたり，slackで質問したりして, いろいろ知識をつけていきましょう！<br>\n",
    "<br>\n",
    "ハッカソンがみなさんにとって有意義であることを期待しています！"
   ]
  },
  {
   "cell_type": "code",
   "execution_count": null,
   "metadata": {},
   "outputs": [],
   "source": []
  }
 ],
 "metadata": {
  "kernelspec": {
   "display_name": "Python 3",
   "language": "python",
   "name": "python3"
  },
  "language_info": {
   "codemirror_mode": {
    "name": "ipython",
    "version": 3
   },
   "file_extension": ".py",
   "mimetype": "text/x-python",
   "name": "python",
   "nbconvert_exporter": "python",
   "pygments_lexer": "ipython3",
   "version": "3.7.6"
  }
 },
 "nbformat": 4,
 "nbformat_minor": 2
}
