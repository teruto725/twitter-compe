{
 "cells": [
  {
   "cell_type": "code",
   "execution_count": 1,
   "metadata": {},
   "outputs": [],
   "source": [
    "import re\n",
    "import numpy as np\n",
    "import matplotlib.pyplot as plt\n",
    "import pandas as pd\n",
    "import seaborn as sns\n",
    "import emoji\n",
    "import jaconv"
   ]
  },
  {
   "cell_type": "code",
   "execution_count": 2,
   "metadata": {},
   "outputs": [
    {
     "name": "stdout",
     "output_type": "stream",
     "text": [
      "C:\\Users\\井原輝人\\Desktop\\sorcecode\\twitter-compe\n"
     ]
    }
   ],
   "source": [
    "cd ../"
   ]
  },
  {
   "cell_type": "code",
   "execution_count": 3,
   "metadata": {},
   "outputs": [],
   "source": [
    "df = pd.read_csv('./arranged_data/add_all_flg.csv')"
   ]
  },
  {
   "cell_type": "code",
   "execution_count": 4,
   "metadata": {},
   "outputs": [
    {
     "name": "stderr",
     "output_type": "stream",
     "text": [
      "c:\\users\\井原輝人\\desktop\\sorcecode\\twitter-compe\\venv\\lib\\site-packages\\pandas\\core\\indexing.py:670: SettingWithCopyWarning: \n",
      "A value is trying to be set on a copy of a slice from a DataFrame\n",
      "\n",
      "See the caveats in the documentation: https://pandas.pydata.org/pandas-docs/stable/user_guide/indexing.html#returning-a-view-versus-a-copy\n",
      "  self._setitem_with_indexer(indexer, value)\n"
     ]
    }
   ],
   "source": [
    "df[\"text_length\"] = np.zeros(df.shape[0])\n",
    "for idx in range(df.shape[0]):\n",
    "    df[\"text_length\"].loc[idx] = len(df[\"text\"].loc[idx])"
   ]
  },
  {
   "cell_type": "code",
   "execution_count": 5,
   "metadata": {},
   "outputs": [
    {
     "data": {
      "text/html": [
       "<div>\n",
       "<style scoped>\n",
       "    .dataframe tbody tr th:only-of-type {\n",
       "        vertical-align: middle;\n",
       "    }\n",
       "\n",
       "    .dataframe tbody tr th {\n",
       "        vertical-align: top;\n",
       "    }\n",
       "\n",
       "    .dataframe thead th {\n",
       "        text-align: right;\n",
       "    }\n",
       "</style>\n",
       "<table border=\"1\" class=\"dataframe\">\n",
       "  <thead>\n",
       "    <tr style=\"text-align: right;\">\n",
       "      <th></th>\n",
       "      <th>Unnamed: 0</th>\n",
       "      <th>Unnamed: 0.1</th>\n",
       "      <th>id</th>\n",
       "      <th>flg</th>\n",
       "      <th>keyword</th>\n",
       "      <th>location</th>\n",
       "      <th>text</th>\n",
       "      <th>is_url</th>\n",
       "      <th>is_location</th>\n",
       "      <th>num_emoji</th>\n",
       "      <th>num_reply</th>\n",
       "      <th>num_hash</th>\n",
       "      <th>text_length</th>\n",
       "    </tr>\n",
       "  </thead>\n",
       "  <tbody>\n",
       "    <tr>\n",
       "      <th>0</th>\n",
       "      <td>0</td>\n",
       "      <td>0</td>\n",
       "      <td>20587</td>\n",
       "      <td>0</td>\n",
       "      <td>覚醒剤</td>\n",
       "      <td>icon:大トロ(@sato_wall_aim )</td>\n",
       "      <td>【マイリスト】カカカカ覚醒剤 https://t.co/15ZY9Oa2QS #sm3630...</td>\n",
       "      <td>True</td>\n",
       "      <td>False</td>\n",
       "      <td>0.0</td>\n",
       "      <td>0</td>\n",
       "      <td>1</td>\n",
       "      <td>50.0</td>\n",
       "    </tr>\n",
       "    <tr>\n",
       "      <th>1</th>\n",
       "      <td>1</td>\n",
       "      <td>1</td>\n",
       "      <td>31857</td>\n",
       "      <td>0</td>\n",
       "      <td>雷 落雷</td>\n",
       "      <td>ジャングル</td>\n",
       "      <td>@kenjikenji3343 せやな　落雷撃たれたら全員張り付くしかなかったからなぁ　なん...</td>\n",
       "      <td>False</td>\n",
       "      <td>False</td>\n",
       "      <td>0.0</td>\n",
       "      <td>1</td>\n",
       "      <td>0</td>\n",
       "      <td>59.0</td>\n",
       "    </tr>\n",
       "    <tr>\n",
       "      <th>2</th>\n",
       "      <td>2</td>\n",
       "      <td>2</td>\n",
       "      <td>36793</td>\n",
       "      <td>0</td>\n",
       "      <td>血液</td>\n",
       "      <td>↓↓↓↓↓こちらをクリック↓↓↓↓</td>\n",
       "      <td>【カフェインの力】 体を動かす前にカフェインを摂ると交感神経が刺激され、体内の脂肪が分解され...</td>\n",
       "      <td>False</td>\n",
       "      <td>False</td>\n",
       "      <td>0.0</td>\n",
       "      <td>0</td>\n",
       "      <td>0</td>\n",
       "      <td>139.0</td>\n",
       "    </tr>\n",
       "    <tr>\n",
       "      <th>3</th>\n",
       "      <td>3</td>\n",
       "      <td>3</td>\n",
       "      <td>42299</td>\n",
       "      <td>0</td>\n",
       "      <td>ハリケーン</td>\n",
       "      <td>Close to your heart</td>\n",
       "      <td>あなたの鼓膜に直に響かせたい ハリケーンのように激しく愛したい 余計な壁なんて取っ払って　奥...</td>\n",
       "      <td>False</td>\n",
       "      <td>False</td>\n",
       "      <td>0.0</td>\n",
       "      <td>0</td>\n",
       "      <td>0</td>\n",
       "      <td>119.0</td>\n",
       "    </tr>\n",
       "    <tr>\n",
       "      <th>4</th>\n",
       "      <td>4</td>\n",
       "      <td>4</td>\n",
       "      <td>51449</td>\n",
       "      <td>0</td>\n",
       "      <td>殺人鬼</td>\n",
       "      <td>偽物なので悪しからず</td>\n",
       "      <td>@Mr8yt 違う違う。お化けは現実にいないけど殺人鬼は現実にいるじゃん〜。うーん、ホラーっ...</td>\n",
       "      <td>False</td>\n",
       "      <td>False</td>\n",
       "      <td>0.0</td>\n",
       "      <td>1</td>\n",
       "      <td>0</td>\n",
       "      <td>146.0</td>\n",
       "    </tr>\n",
       "    <tr>\n",
       "      <th>...</th>\n",
       "      <td>...</td>\n",
       "      <td>...</td>\n",
       "      <td>...</td>\n",
       "      <td>...</td>\n",
       "      <td>...</td>\n",
       "      <td>...</td>\n",
       "      <td>...</td>\n",
       "      <td>...</td>\n",
       "      <td>...</td>\n",
       "      <td>...</td>\n",
       "      <td>...</td>\n",
       "      <td>...</td>\n",
       "      <td>...</td>\n",
       "    </tr>\n",
       "    <tr>\n",
       "      <th>20280</th>\n",
       "      <td>20280</td>\n",
       "      <td>20280</td>\n",
       "      <td>45367</td>\n",
       "      <td>0</td>\n",
       "      <td>爆発した</td>\n",
       "      <td>NaN</td>\n",
       "      <td>@front_0v0 まだ爆発したかはわかりません。 一つだけ言えることは、もうすぐ（数万年...</td>\n",
       "      <td>False</td>\n",
       "      <td>True</td>\n",
       "      <td>0.0</td>\n",
       "      <td>1</td>\n",
       "      <td>0</td>\n",
       "      <td>101.0</td>\n",
       "    </tr>\n",
       "    <tr>\n",
       "      <th>20281</th>\n",
       "      <td>20281</td>\n",
       "      <td>20281</td>\n",
       "      <td>45546</td>\n",
       "      <td>0</td>\n",
       "      <td>爆発した</td>\n",
       "      <td>🐒🐟 ✩͓̊  🌊🐷</td>\n",
       "      <td>@w_khtoO ぴこち愛爆発した 。 ぴこちぴこちぴこちいいいいいい 愛してる❤︎</td>\n",
       "      <td>False</td>\n",
       "      <td>False</td>\n",
       "      <td>1.0</td>\n",
       "      <td>1</td>\n",
       "      <td>0</td>\n",
       "      <td>42.0</td>\n",
       "    </tr>\n",
       "    <tr>\n",
       "      <th>20282</th>\n",
       "      <td>20282</td>\n",
       "      <td>20282</td>\n",
       "      <td>31532</td>\n",
       "      <td>0</td>\n",
       "      <td>爆発</td>\n",
       "      <td>Japan</td>\n",
       "      <td>今のローテ環境、重要度で言うと 序盤からテンポを取る動き＜進化t以降に爆発的な動き だってこ...</td>\n",
       "      <td>False</td>\n",
       "      <td>False</td>\n",
       "      <td>0.0</td>\n",
       "      <td>0</td>\n",
       "      <td>0</td>\n",
       "      <td>138.0</td>\n",
       "    </tr>\n",
       "    <tr>\n",
       "      <th>20283</th>\n",
       "      <td>20283</td>\n",
       "      <td>20283</td>\n",
       "      <td>21619</td>\n",
       "      <td>0</td>\n",
       "      <td>緊急 緊急事態</td>\n",
       "      <td>NaN</td>\n",
       "      <td>@kharaguchi 代議士先生  これは一般国民の意見が耳障りだから と言う理由での恫喝...</td>\n",
       "      <td>False</td>\n",
       "      <td>True</td>\n",
       "      <td>0.0</td>\n",
       "      <td>1</td>\n",
       "      <td>0</td>\n",
       "      <td>102.0</td>\n",
       "    </tr>\n",
       "    <tr>\n",
       "      <th>20284</th>\n",
       "      <td>20284</td>\n",
       "      <td>20284</td>\n",
       "      <td>25999</td>\n",
       "      <td>0</td>\n",
       "      <td>炎上</td>\n",
       "      <td>日本のどこか</td>\n",
       "      <td>炎上型サヨクジャーナリストw どんな肝炎だろ。寡聞にして知らんけど。 https://t.c...</td>\n",
       "      <td>True</td>\n",
       "      <td>False</td>\n",
       "      <td>0.0</td>\n",
       "      <td>0</td>\n",
       "      <td>0</td>\n",
       "      <td>58.0</td>\n",
       "    </tr>\n",
       "  </tbody>\n",
       "</table>\n",
       "<p>20285 rows × 13 columns</p>\n",
       "</div>"
      ],
      "text/plain": [
       "       Unnamed: 0  Unnamed: 0.1     id  flg  keyword  \\\n",
       "0               0             0  20587    0      覚醒剤   \n",
       "1               1             1  31857    0     雷 落雷   \n",
       "2               2             2  36793    0       血液   \n",
       "3               3             3  42299    0    ハリケーン   \n",
       "4               4             4  51449    0      殺人鬼   \n",
       "...           ...           ...    ...  ...      ...   \n",
       "20280       20280         20280  45367    0     爆発した   \n",
       "20281       20281         20281  45546    0     爆発した   \n",
       "20282       20282         20282  31532    0       爆発   \n",
       "20283       20283         20283  21619    0  緊急 緊急事態   \n",
       "20284       20284         20284  25999    0       炎上   \n",
       "\n",
       "                        location  \\\n",
       "0      icon:大トロ(@sato_wall_aim )   \n",
       "1                          ジャングル   \n",
       "2              ↓↓↓↓↓こちらをクリック↓↓↓↓   \n",
       "3            Close to your heart   \n",
       "4                     偽物なので悪しからず   \n",
       "...                          ...   \n",
       "20280                        NaN   \n",
       "20281                 🐒🐟 ✩͓̊  🌊🐷   \n",
       "20282                      Japan   \n",
       "20283                        NaN   \n",
       "20284                     日本のどこか   \n",
       "\n",
       "                                                    text  is_url  is_location  \\\n",
       "0      【マイリスト】カカカカ覚醒剤 https://t.co/15ZY9Oa2QS #sm3630...    True        False   \n",
       "1      @kenjikenji3343 せやな　落雷撃たれたら全員張り付くしかなかったからなぁ　なん...   False        False   \n",
       "2      【カフェインの力】 体を動かす前にカフェインを摂ると交感神経が刺激され、体内の脂肪が分解され...   False        False   \n",
       "3      あなたの鼓膜に直に響かせたい ハリケーンのように激しく愛したい 余計な壁なんて取っ払って　奥...   False        False   \n",
       "4      @Mr8yt 違う違う。お化けは現実にいないけど殺人鬼は現実にいるじゃん〜。うーん、ホラーっ...   False        False   \n",
       "...                                                  ...     ...          ...   \n",
       "20280  @front_0v0 まだ爆発したかはわかりません。 一つだけ言えることは、もうすぐ（数万年...   False         True   \n",
       "20281         @w_khtoO ぴこち愛爆発した 。 ぴこちぴこちぴこちいいいいいい 愛してる❤︎   False        False   \n",
       "20282  今のローテ環境、重要度で言うと 序盤からテンポを取る動き＜進化t以降に爆発的な動き だってこ...   False        False   \n",
       "20283  @kharaguchi 代議士先生  これは一般国民の意見が耳障りだから と言う理由での恫喝...   False         True   \n",
       "20284  炎上型サヨクジャーナリストw どんな肝炎だろ。寡聞にして知らんけど。 https://t.c...    True        False   \n",
       "\n",
       "       num_emoji  num_reply  num_hash  text_length  \n",
       "0            0.0          0         1         50.0  \n",
       "1            0.0          1         0         59.0  \n",
       "2            0.0          0         0        139.0  \n",
       "3            0.0          0         0        119.0  \n",
       "4            0.0          1         0        146.0  \n",
       "...          ...        ...       ...          ...  \n",
       "20280        0.0          1         0        101.0  \n",
       "20281        1.0          1         0         42.0  \n",
       "20282        0.0          0         0        138.0  \n",
       "20283        0.0          1         0        102.0  \n",
       "20284        0.0          0         0         58.0  \n",
       "\n",
       "[20285 rows x 13 columns]"
      ]
     },
     "execution_count": 5,
     "metadata": {},
     "output_type": "execute_result"
    }
   ],
   "source": [
    "df"
   ]
  },
  {
   "cell_type": "code",
   "execution_count": 6,
   "metadata": {},
   "outputs": [],
   "source": [
    "#urlの削除\n",
    "df = df.replace(r'(https?://[\\w/:%#\\$&\\?\\(\\)~\\.=\\+\\-]+)',\"\",regex=True)\n",
    "#replyの削除\n",
    "df = df.replace(r'@([A-Za-z0-9_])+',\"\",regex = True)\n",
    "#全角スペースを汎化すスペースに\n",
    "df[\"text\"] = jaconv.z2h(df[\"text\"].str,digit=True, ascii = True) "
   ]
  },
  {
   "cell_type": "code",
   "execution_count": 7,
   "metadata": {},
   "outputs": [
    {
     "data": {
      "text/plain": [
       "<matplotlib.axes._subplots.AxesSubplot at 0x27f99cbd128>"
      ]
     },
     "execution_count": 7,
     "metadata": {},
     "output_type": "execute_result"
    },
    {
     "data": {
      "image/png": "[encoded data removed]",
      "text/plain": [
       "<Figure size 432x288 with 1 Axes>"
      ]
     },
     "metadata": {
      "needs_background": "light"
     },
     "output_type": "display_data"
    }
   ],
   "source": [
    "sns.distplot(df[df[\"flg\"]==0][\"text_length\"])\n",
    "sns.distplot(df[df[\"flg\"]==1][\"text_length\"])"
   ]
  },
  {
   "cell_type": "code",
   "execution_count": 8,
   "metadata": {},
   "outputs": [],
   "source": [
    "df[\"text_wakati\"] = df[\"text\"].str.split(\",\")"
   ]
  },
  {
   "cell_type": "code",
   "execution_count": 9,
   "metadata": {},
   "outputs": [],
   "source": [
    "df[\"num_kusa\"] = df[\"text\"].str.count(\"w\")"
   ]
  },
  {
   "cell_type": "code",
   "execution_count": 10,
   "metadata": {},
   "outputs": [
    {
     "name": "stderr",
     "output_type": "stream",
     "text": [
      "c:\\users\\井原輝人\\desktop\\sorcecode\\twitter-compe\\venv\\lib\\site-packages\\pandas\\core\\indexing.py:670: SettingWithCopyWarning: \n",
      "A value is trying to be set on a copy of a slice from a DataFrame\n",
      "\n",
      "See the caveats in the documentation: https://pandas.pydata.org/pandas-docs/stable/user_guide/indexing.html#returning-a-view-versus-a-copy\n",
      "  self._setitem_with_indexer(indexer, value)\n"
     ]
    }
   ],
   "source": [
    "#分かち書き\n",
    "from janome.tokenizer import Tokenizer\n",
    "t= Tokenizer()\n",
    "\n",
    "for idx in range(0,df.shape[0]):\n",
    "    df[\"text_wakati\"].loc[idx] = [token.base_form for token in t.tokenize(df[\"text\"].loc[idx])]\n"
   ]
  },
  {
   "cell_type": "code",
   "execution_count": 11,
   "metadata": {},
   "outputs": [],
   "source": [
    "#一文字ずつ見て1文字だけの単語は削除\n",
    "\n",
    "        "
   ]
  },
  {
   "cell_type": "code",
   "execution_count": null,
   "metadata": {},
   "outputs": [],
   "source": [
    "#一文字ずつ見て1文字だけの単語は削除\n",
    "delonelist = list()\n",
    "for i in range(df.shape[0]):\n",
    "    wakati = df[\"text_wakati\"].values[i]\n",
    "    del_one = \"\"\n",
    "    for idx in range(len(wakati)):\n",
    "        if len(str(wakati[idx])) > 1:\n",
    "            del_one += (wakati[idx]+\" \")\n",
    "    delonelist.append(np.array(del_one))\n",
    "df[\"text_del_one\"] = np.array(delonelist)\n",
    "        "
   ]
  },
  {
   "cell_type": "code",
   "execution_count": 12,
   "metadata": {},
   "outputs": [
    {
     "data": {
      "text/plain": [
       "'ﾏｲﾘｽﾄ ｶｶｶｶ 覚醒剤    sm 36302050 '"
      ]
     },
     "execution_count": 12,
     "metadata": {},
     "output_type": "execute_result"
    }
   ],
   "source": [
    "df[\"text_del_one\"].values[0]"
   ]
  },
  {
   "cell_type": "code",
   "execution_count": 13,
   "metadata": {},
   "outputs": [],
   "source": [
    "from sklearn.feature_extraction.text import TfidfVectorizer, CountVectorizer\n",
    "\n",
    "cv = CountVectorizer()\n",
    "\n"
   ]
  },
  {
   "cell_type": "code",
   "execution_count": 14,
   "metadata": {},
   "outputs": [
    {
     "data": {
      "text/plain": [
       "Index(['Unnamed: 0', 'Unnamed: 0.1', 'id', 'flg', 'keyword', 'location',\n",
       "       'text', 'is_url', 'is_location', 'num_emoji', 'num_reply', 'num_hash',\n",
       "       'text_length', 'text_wakati', 'num_kusa', 'text_del_one'],\n",
       "      dtype='object')"
      ]
     },
     "execution_count": 14,
     "metadata": {},
     "output_type": "execute_result"
    }
   ],
   "source": [
    "df.columns"
   ]
  },
  {
   "cell_type": "code",
   "execution_count": 33,
   "metadata": {},
   "outputs": [
    {
     "name": "stdout",
     "output_type": "stream",
     "text": [
      "<class 'pandas.core.frame.DataFrame'>\n",
      "RangeIndex: 20285 entries, 0 to 20284\n",
      "Data columns (total 8 columns):\n",
      " #   Column        Non-Null Count  Dtype  \n",
      "---  ------        --------------  -----  \n",
      " 0   is_url        20285 non-null  float64\n",
      " 1   is_location   20285 non-null  float64\n",
      " 2   num_emoji     20285 non-null  float64\n",
      " 3   num_reply     20285 non-null  float64\n",
      " 4   num_hash      20285 non-null  float64\n",
      " 5   text_length   20285 non-null  float64\n",
      " 6   num_kusa      20285 non-null  float64\n",
      " 7   text_del_one  20285 non-null  object \n",
      "dtypes: float64(7), object(1)\n",
      "memory usage: 1.2+ MB\n",
      "None\n"
     ]
    },
    {
     "name": "stderr",
     "output_type": "stream",
     "text": [
      "c:\\users\\井原輝人\\desktop\\sorcecode\\twitter-compe\\venv\\lib\\site-packages\\ipykernel_launcher.py:4: SettingWithCopyWarning: \n",
      "A value is trying to be set on a copy of a slice from a DataFrame.\n",
      "Try using .loc[row_indexer,col_indexer] = value instead\n",
      "\n",
      "See the caveats in the documentation: https://pandas.pydata.org/pandas-docs/stable/user_guide/indexing.html#returning-a-view-versus-a-copy\n",
      "  after removing the cwd from sys.path.\n",
      "c:\\users\\井原輝人\\desktop\\sorcecode\\twitter-compe\\venv\\lib\\site-packages\\ipykernel_launcher.py:5: SettingWithCopyWarning: \n",
      "A value is trying to be set on a copy of a slice from a DataFrame.\n",
      "Try using .loc[row_indexer,col_indexer] = value instead\n",
      "\n",
      "See the caveats in the documentation: https://pandas.pydata.org/pandas-docs/stable/user_guide/indexing.html#returning-a-view-versus-a-copy\n",
      "  \"\"\"\n",
      "c:\\users\\井原輝人\\desktop\\sorcecode\\twitter-compe\\venv\\lib\\site-packages\\ipykernel_launcher.py:6: SettingWithCopyWarning: \n",
      "A value is trying to be set on a copy of a slice from a DataFrame.\n",
      "Try using .loc[row_indexer,col_indexer] = value instead\n",
      "\n",
      "See the caveats in the documentation: https://pandas.pydata.org/pandas-docs/stable/user_guide/indexing.html#returning-a-view-versus-a-copy\n",
      "  \n",
      "c:\\users\\井原輝人\\desktop\\sorcecode\\twitter-compe\\venv\\lib\\site-packages\\ipykernel_launcher.py:7: SettingWithCopyWarning: \n",
      "A value is trying to be set on a copy of a slice from a DataFrame.\n",
      "Try using .loc[row_indexer,col_indexer] = value instead\n",
      "\n",
      "See the caveats in the documentation: https://pandas.pydata.org/pandas-docs/stable/user_guide/indexing.html#returning-a-view-versus-a-copy\n",
      "  import sys\n",
      "c:\\users\\井原輝人\\desktop\\sorcecode\\twitter-compe\\venv\\lib\\site-packages\\ipykernel_launcher.py:8: SettingWithCopyWarning: \n",
      "A value is trying to be set on a copy of a slice from a DataFrame.\n",
      "Try using .loc[row_indexer,col_indexer] = value instead\n",
      "\n",
      "See the caveats in the documentation: https://pandas.pydata.org/pandas-docs/stable/user_guide/indexing.html#returning-a-view-versus-a-copy\n",
      "  \n",
      "c:\\users\\井原輝人\\desktop\\sorcecode\\twitter-compe\\venv\\lib\\site-packages\\ipykernel_launcher.py:9: SettingWithCopyWarning: \n",
      "A value is trying to be set on a copy of a slice from a DataFrame.\n",
      "Try using .loc[row_indexer,col_indexer] = value instead\n",
      "\n",
      "See the caveats in the documentation: https://pandas.pydata.org/pandas-docs/stable/user_guide/indexing.html#returning-a-view-versus-a-copy\n",
      "  if __name__ == '__main__':\n",
      "c:\\users\\井原輝人\\desktop\\sorcecode\\twitter-compe\\venv\\lib\\site-packages\\ipykernel_launcher.py:10: SettingWithCopyWarning: \n",
      "A value is trying to be set on a copy of a slice from a DataFrame.\n",
      "Try using .loc[row_indexer,col_indexer] = value instead\n",
      "\n",
      "See the caveats in the documentation: https://pandas.pydata.org/pandas-docs/stable/user_guide/indexing.html#returning-a-view-versus-a-copy\n",
      "  # Remove the CWD from sys.path while we load stuff.\n"
     ]
    }
   ],
   "source": [
    "from scipy.sparse import csr_matrix\n",
    "# 特徴量の加工\n",
    "X_df = df[[\"is_url\",\"is_location\",\"num_emoji\",\"num_reply\",\"num_hash\",\"text_length\",\"num_kusa\",\"text_del_one\"]]\n",
    "X_df[\"is_url\"] = (X_df[\"is_url\"]*1).astype(np.float64)\n",
    "X_df[\"is_location\"] = (X_df[\"is_location\"]*1).astype(np.float64)\n",
    "X_df[\"num_emoji\"] = X_df[\"num_emoji\"].astype(np.float64)\n",
    "X_df[\"num_reply\"] = X_df[\"num_reply\"].astype(np.float64)\n",
    "X_df[\"num_hash\"] = X_df[\"num_hash\"].astype(np.float64)\n",
    "X_df[\"text_length\"] = X_df[\"text_length\"].astype(np.float64)\n",
    "X_df[\"num_kusa\"] = X_df[\"num_kusa\"].astype(np.float64)\n",
    "\n",
    "print(X_df.info())\n",
    "X= X_df.values\n",
    "# 目標値の加工\n",
    "Y_df = df[\"flg\"].astype(np.int64)\n",
    "y = Y_df.values\n",
    "\n",
    "#トレーニングデータとテストデータへの分割\n",
    "from sklearn.model_selection import train_test_split\n",
    "X_train, X_test, y_train, y_test = train_test_split(X, y, train_size=0.8, random_state=1)\n",
    "\n",
    "\n"
   ]
  },
  {
   "cell_type": "code",
   "execution_count": 34,
   "metadata": {},
   "outputs": [],
   "source": [
    "\n",
    "# トレーニング用データにCountVectorizerを適用\n",
    "X_train = cv.fit_transform(X_train[:,7])\n",
    "\n"
   ]
  },
  {
   "cell_type": "code",
   "execution_count": 35,
   "metadata": {},
   "outputs": [],
   "source": [
    "# バリデーション用データにCountVectorizerを適用\n",
    "X_test = cv.transform(X_test[:,7])"
   ]
  },
  {
   "cell_type": "code",
   "execution_count": 76,
   "metadata": {},
   "outputs": [
    {
     "data": {
      "text/plain": [
       "RandomForestClassifier(bootstrap=True, ccp_alpha=0.0, class_weight=None,\n",
       "                       criterion='gini', max_depth=None, max_features='auto',\n",
       "                       max_leaf_nodes=None, max_samples=None,\n",
       "                       min_impurity_decrease=0.0, min_impurity_split=None,\n",
       "                       min_samples_leaf=1, min_samples_split=2,\n",
       "                       min_weight_fraction_leaf=0.0, n_estimators=500,\n",
       "                       n_jobs=None, oob_score=False, random_state=1, verbose=0,\n",
       "                       warm_start=False)"
      ]
     },
     "execution_count": 76,
     "metadata": {},
     "output_type": "execute_result"
    }
   ],
   "source": [
    "from sklearn.linear_model import LogisticRegression\n",
    "from sklearn.ensemble import RandomForestClassifier\n",
    "model = RandomForestClassifier(n_estimators=500,\n",
    "                                    random_state=1)\n",
    "model.fit(X_train, y_train)"
   ]
  },
  {
   "cell_type": "code",
   "execution_count": 77,
   "metadata": {},
   "outputs": [],
   "source": [
    "from sklearn.metrics import confusion_matrix\n",
    "from sklearn.metrics import accuracy_score ,precision_score, recall_score,f1_score\n",
    "import seaborn as sns\n",
    "def result_heatmap(Y_test,Y_pred):\n",
    "    print(\"正解率:\"+str(accuracy_score(Y_test, Y_pred)))\n",
    "    print(\"適合率:\"+str(recall_score(Y_test,Y_pred)))\n",
    "    print(\"再現率:\"+str(precision_score(Y_test,Y_pred)))\n",
    "    print(\"F値:\"+str(f1_score(Y_test, Y_pred)))  \n",
    "    cm = confusion_matrix(Y_test, Y_pred)\n",
    "    sns.heatmap(cm,annot=True, cmap='Blues')"
   ]
  },
  {
   "cell_type": "code",
   "execution_count": 78,
   "metadata": {},
   "outputs": [
    {
     "name": "stdout",
     "output_type": "stream",
     "text": [
      "正解率:0.9682031057431599\n",
      "適合率:0.5830388692579506\n",
      "再現率:0.9375\n",
      "F値:0.718954248366013\n"
     ]
    },
    {
     "data": {
      "image/png": "[encoded data removed]",
      "text/plain": [
       "<Figure size 432x288 with 2 Axes>"
      ]
     },
     "metadata": {
      "needs_background": "light"
     },
     "output_type": "display_data"
    }
   ],
   "source": [
    "#普通にやると全部違う方に分類される\n",
    "y_pred = model.predict(X_test)\n",
    "result_heatmap(y_test,y_pred)"
   ]
  },
  {
   "cell_type": "code",
   "execution_count": 79,
   "metadata": {},
   "outputs": [
    {
     "name": "stdout",
     "output_type": "stream",
     "text": [
      "              precision    recall  f1-score   support\n",
      "\n",
      "           0       0.97      1.00      0.98      3774\n",
      "           1       0.94      0.58      0.72       283\n",
      "\n",
      "    accuracy                           0.97      4057\n",
      "   macro avg       0.95      0.79      0.85      4057\n",
      "weighted avg       0.97      0.97      0.96      4057\n",
      "\n"
     ]
    }
   ],
   "source": [
    "from sklearn.metrics import classification_report\n",
    "print(classification_report(y_test, model.predict(X_test)))"
   ]
  },
  {
   "cell_type": "code",
   "execution_count": null,
   "metadata": {},
   "outputs": [],
   "source": []
  }
 ],
 "metadata": {
  "kernelspec": {
   "display_name": "Python 3",
   "language": "python",
   "name": "python3"
  },
  "language_info": {
   "codemirror_mode": {
    "name": "ipython",
    "version": 3
   },
   "file_extension": ".py",
   "mimetype": "text/x-python",
   "name": "python",
   "nbconvert_exporter": "python",
   "pygments_lexer": "ipython3",
   "version": "3.7.6"
  }
 },
 "nbformat": 4,
 "nbformat_minor": 4
}
