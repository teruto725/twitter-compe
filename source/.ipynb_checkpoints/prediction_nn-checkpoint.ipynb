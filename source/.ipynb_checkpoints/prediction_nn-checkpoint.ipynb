{
 "cells": [
  {
   "cell_type": "code",
   "execution_count": 1,
   "metadata": {},
   "outputs": [],
   "source": [
    "import re\n",
    "import numpy as np\n",
    "import matplotlib.pyplot as plt\n",
    "import pandas as pd\n",
    "import seaborn as sns\n",
    "import math"
   ]
  },
  {
   "cell_type": "code",
   "execution_count": 2,
   "metadata": {},
   "outputs": [
    {
     "name": "stdout",
     "output_type": "stream",
     "text": [
      "C:\\Users\\akite\\OneDrive\\デスクトップ\\source code\\twitter-compe\n"
     ]
    }
   ],
   "source": [
    "cd ../"
   ]
  },
  {
   "cell_type": "code",
   "execution_count": 3,
   "metadata": {},
   "outputs": [],
   "source": [
    "train_df = pd.read_csv('./data/preprosessing_train.csv')"
   ]
  },
  {
   "cell_type": "code",
   "execution_count": 159,
   "metadata": {},
   "outputs": [
    {
     "data": {
      "text/plain": [
       "(18851, 17)"
      ]
     },
     "execution_count": 159,
     "metadata": {},
     "output_type": "execute_result"
    }
   ],
   "source": [
    "one_train_df = train_df[train_df[\"flg\"]== 1]\n",
    "zero_train_df = train_df[train_df[\"flg\"]== 0]\n",
    "zero_train_df.shape"
   ]
  },
  {
   "cell_type": "code",
   "execution_count": 162,
   "metadata": {},
   "outputs": [],
   "source": [
    "X_one_df_train = one_train_df[[\"is_url\",\"is_location\",\"num_emoji\",\"num_reply\",\"num_hash\",\"text_length\",\"num_kusa\",\"is_date\",\"is_time\",\"text_wakati\"]]\n",
    "Y_one_df_train = one_train_df[\"flg\"].astype(np.int64)\n",
    "X_zero_df_train = zero_train_df[[\"is_url\",\"is_location\",\"num_emoji\",\"num_reply\",\"num_hash\",\"text_length\",\"num_kusa\",\"is_date\",\"is_time\",\"text_wakati\"]]\n",
    "Y_zero_df_train = zero_train_df[\"flg\"].astype(np.int64)\n",
    "X_one_train =  X_one_df_train.values\n",
    "y_one_train = Y_one_df_train.values\n",
    "X_zero_train =  X_zero_df_train.values\n",
    "y_zero_train = Y_zero_df_train.values\n",
    "from sklearn.model_selection import train_test_split\n",
    "X_one_train, X_one_valid, y_one_train, y_one_valid = train_test_split(X_one_train, y_one_train, train_size=0.8, random_state=1)\n",
    "X_zero_train, X_zero_valid, y_zero_train, y_zero_valid = train_test_split(X_zero_train, y_zero_train, train_size=0.8, random_state=1)\n"
   ]
  },
  {
   "cell_type": "code",
   "execution_count": 5,
   "metadata": {},
   "outputs": [
    {
     "data": {
      "text/plain": [
       "(16228, 8)"
      ]
     },
     "execution_count": 5,
     "metadata": {},
     "output_type": "execute_result"
    }
   ],
   "source": [
    "#特徴量配列\n",
    "X_train_feat = X_train[:,:8]\n",
    "X_valid_feat = X_valid[:,:8]\n",
    "X_train_feat.shape"
   ]
  },
  {
   "cell_type": "code",
   "execution_count": 6,
   "metadata": {},
   "outputs": [],
   "source": [
    "#特徴量標準化\n",
    "from sklearn.preprocessing import StandardScaler\n",
    "from sklearn.preprocessing import MinMaxScaler\n",
    "ss = MinMaxScaler()\n",
    "X_train_feat_ss = ss.fit_transform(X_train_feat)\n",
    "X_valid_feat_ss = ss.transform(X_valid_feat)"
   ]
  },
  {
   "cell_type": "code",
   "execution_count": 7,
   "metadata": {},
   "outputs": [],
   "source": [
    "#文字カラムに対する欠損値削除\n",
    "X_train_del_one = X_train[:,9]\n",
    "for idx in range(len(X_train_del_one)):\n",
    "    if type(X_train_del_one[idx]) is float:\n",
    "        X_train_del_one[idx] = \" \" \n",
    "\n",
    "X_valid_del_one = X_valid[:,9]\n",
    "for idx in range(len(X_valid_del_one)):\n",
    "    if type(X_valid_del_one[idx]) is float:\n",
    "        X_valid_del_one[idx] = \" \" "
   ]
  },
  {
   "cell_type": "code",
   "execution_count": 8,
   "metadata": {},
   "outputs": [],
   "source": [
    "#単語ベクトル化\n",
    "from sklearn.feature_extraction.text import TfidfVectorizer, CountVectorizer\n",
    "cv = TfidfVectorizer(min_df=10/16228, max_df=3000/16228)\n",
    "X_train_cv = cv.fit_transform(X_train_del_one)\n",
    "X_valid_cv = cv.transform(X_valid_del_one)"
   ]
  },
  {
   "cell_type": "code",
   "execution_count": 9,
   "metadata": {},
   "outputs": [],
   "source": [
    "#文字配列と特徴量の配列を結合する\n",
    "X_train = np.concatenate([X_train_cv.toarray(),X_train_feat_ss],1)\n",
    "X_valid = np.concatenate([X_valid_cv.toarray(),X_valid_feat_ss],1)"
   ]
  },
  {
   "cell_type": "code",
   "execution_count": 10,
   "metadata": {},
   "outputs": [],
   "source": [
    "#型変換\n",
    "X_train = X_train.astype(np.float32)\n",
    "X_valid = X_valid.astype(np.float32)"
   ]
  },
  {
   "cell_type": "code",
   "execution_count": 12,
   "metadata": {},
   "outputs": [],
   "source": [
    "#NN\n",
    "import chainer\n",
    "from chainer import training, iterators, optimizers, serializers, Chain\n",
    "import chainer.functions as F\n",
    "import chainer.links as L\n",
    " \n",
    "from chainer.training import extensions\n",
    "class Net(chainer.Chain):\n",
    "\n",
    "    def __init__(self, n_in=4, n_hidden=500, n_out=3):\n",
    "        super().__init__()\n",
    "        with self.init_scope():\n",
    "            self.l1 = L.Linear(n_in, n_hidden)\n",
    "            self.l2 = L.Linear(n_hidden, n_hidden)\n",
    "            self.l3 = L.Linear(n_hidden, n_out)\n",
    "\n",
    "    def forward(self, x):\n",
    "        h = F.relu(self.l1(x))\n",
    "        h = F.relu(self.l2(h))\n",
    "        h = self.l3(h)\n",
    "\n",
    "        return h"
   ]
  },
  {
   "cell_type": "code",
   "execution_count": 133,
   "metadata": {},
   "outputs": [],
   "source": [
    "n_epoch = 30 #学習回数\n",
    "n_batchsize = 1000 #バッチサイズ\n",
    "net = Net(n_in =X_train.shape[1], n_hidden=1000,n_out=2)"
   ]
  },
  {
   "cell_type": "code",
   "execution_count": 135,
   "metadata": {},
   "outputs": [],
   "source": [
    "from chainer import optimizers\n",
    "from chainer.optimizer_hooks import WeightDecay\n",
    "\n",
    "optimizer = optimizers.SGD(lr=0.001)  # 学習率を 0.01 に設定\n",
    "optimizer.setup(net)\n",
    "\n",
    "for param in net.params():\n",
    "    if param.name != 'b':  # バイアス以外だったら\n",
    "        param.update_rule.add_hook(WeightDecay(0.0001))  # 重み減衰を適用"
   ]
  },
  {
   "cell_type": "code",
   "execution_count": 136,
   "metadata": {},
   "outputs": [],
   "source": [
    "#ログ\n",
    "iteration = 0\n",
    "\n",
    "# ログの保存用\n",
    "results_train = {\n",
    "    'loss': [],\n",
    "    'accuracy': []\n",
    "}\n",
    "results_valid = {\n",
    "    'loss': [],\n",
    "    'accuracy': []\n",
    "}"
   ]
  },
  {
   "cell_type": "code",
   "execution_count": 137,
   "metadata": {},
   "outputs": [
    {
     "name": "stdout",
     "output_type": "stream",
     "text": [
      "epoch: 0, iteration: 3, loss (train): 0.6931, loss (valid): 0.6921\n",
      "epoch: 1, iteration: 6, loss (train): 0.6915, loss (valid): 0.6905\n",
      "epoch: 2, iteration: 9, loss (train): 0.6900, loss (valid): 0.6889\n",
      "epoch: 3, iteration: 12, loss (train): 0.6884, loss (valid): 0.6874\n",
      "epoch: 4, iteration: 15, loss (train): 0.6868, loss (valid): 0.6858\n",
      "epoch: 5, iteration: 18, loss (train): 0.6853, loss (valid): 0.6842\n",
      "epoch: 6, iteration: 21, loss (train): 0.6838, loss (valid): 0.6827\n",
      "epoch: 7, iteration: 24, loss (train): 0.6822, loss (valid): 0.6811\n",
      "epoch: 8, iteration: 27, loss (train): 0.6807, loss (valid): 0.6796\n",
      "epoch: 9, iteration: 30, loss (train): 0.6792, loss (valid): 0.6781\n",
      "epoch: 10, iteration: 33, loss (train): 0.6776, loss (valid): 0.6766\n",
      "epoch: 11, iteration: 36, loss (train): 0.6761, loss (valid): 0.6750\n",
      "epoch: 12, iteration: 39, loss (train): 0.6746, loss (valid): 0.6735\n",
      "epoch: 13, iteration: 42, loss (train): 0.6731, loss (valid): 0.6720\n",
      "epoch: 14, iteration: 45, loss (train): 0.6717, loss (valid): 0.6705\n",
      "epoch: 15, iteration: 48, loss (train): 0.6701, loss (valid): 0.6690\n",
      "epoch: 16, iteration: 51, loss (train): 0.6686, loss (valid): 0.6676\n",
      "epoch: 17, iteration: 54, loss (train): 0.6672, loss (valid): 0.6661\n",
      "epoch: 18, iteration: 57, loss (train): 0.6657, loss (valid): 0.6646\n",
      "epoch: 19, iteration: 60, loss (train): 0.6643, loss (valid): 0.6631\n",
      "epoch: 20, iteration: 63, loss (train): 0.6628, loss (valid): 0.6617\n",
      "epoch: 21, iteration: 66, loss (train): 0.6613, loss (valid): 0.6602\n",
      "epoch: 22, iteration: 69, loss (train): 0.6599, loss (valid): 0.6588\n",
      "epoch: 23, iteration: 72, loss (train): 0.6584, loss (valid): 0.6573\n",
      "epoch: 24, iteration: 75, loss (train): 0.6570, loss (valid): 0.6559\n",
      "epoch: 25, iteration: 78, loss (train): 0.6556, loss (valid): 0.6545\n",
      "epoch: 26, iteration: 81, loss (train): 0.6542, loss (valid): 0.6530\n",
      "epoch: 27, iteration: 84, loss (train): 0.6527, loss (valid): 0.6516\n",
      "epoch: 28, iteration: 87, loss (train): 0.6513, loss (valid): 0.6502\n",
      "epoch: 29, iteration: 90, loss (train): 0.6499, loss (valid): 0.6488\n"
     ]
    }
   ],
   "source": [
    "for epoch in range(n_epoch):\n",
    "\n",
    "    # データセット並べ替えた順番を取得\n",
    "    order = np.random.permutation(range(len(X_train)))\n",
    "\n",
    "    # 各バッチ毎の目的関数の出力と分類精度の保存用\n",
    "    loss_list = []\n",
    "    accuracy_list = []\n",
    "\n",
    "    for i in range(0, len(order), n_batchsize):\n",
    "        # バッチを準備\n",
    "        index = order[i:i+n_batchsize]\n",
    "        x_train_batch = X_train[index,:]\n",
    "        t_train_batch = y_train[index]\n",
    "\n",
    "        # 予測値を出力\n",
    "        y_train_batch = net(x_train_batch)\n",
    "\n",
    "        # 目的関数を適用し、分類精度を計算\n",
    "        loss_train_batch = F.softmax_cross_entropy(y_train_batch, t_train_batch)\n",
    "        accuracy_train_batch = F.accuracy(y_train_batch, t_train_batch)\n",
    "\n",
    "        loss_list.append(loss_train_batch.array)\n",
    "        accuracy_list.append(accuracy_train_batch.array)\n",
    "\n",
    "        # 勾配のリセットと勾配の計算\n",
    "        net.cleargrads()\n",
    "        loss_train_batch.backward()\n",
    "\n",
    "        # パラメータの更新\n",
    "        optimizer.update()\n",
    "\n",
    "        # カウントアップ\n",
    "        iteration += 1\n",
    "\n",
    "    # 訓練データに対する目的関数の出力と分類精度を集計\n",
    "    loss_train = np.mean(loss_list)\n",
    "    accuracy_train = np.mean(accuracy_list)\n",
    "\n",
    "    # 1エポック終えたら、検証データで評価\n",
    "    # 検証データで予測値を出力\n",
    "    with chainer.using_config('train', False), chainer.using_config('enable_backprop', False):\n",
    "        y_val = net(X_valid)\n",
    "\n",
    "    # 目的関数を適用し、分類精度を計算\n",
    "    loss_val = F.softmax_cross_entropy(y_val, y_valid)\n",
    "    accuracy_val = F.accuracy(y_val, y_valid)\n",
    "\n",
    "    # 結果の表示\n",
    "    print('epoch: {}, iteration: {}, loss (train): {:.4f}, loss (valid): {:.4f}'.format(\n",
    "        epoch, iteration, loss_train, loss_val.array))\n",
    "\n",
    "    # ログを保存\n",
    "    results_train['loss'] .append(loss_train)\n",
    "    results_train['accuracy'] .append(accuracy_train)\n",
    "    results_valid['loss'].append(loss_val.array)\n",
    "    results_valid['accuracy'].append(accuracy_val.array)"
   ]
  },
  {
   "cell_type": "code",
   "execution_count": 138,
   "metadata": {},
   "outputs": [
    {
     "data": {
      "text/plain": [
       "<matplotlib.legend.Legend at 0x2e80a6cde48>"
      ]
     },
     "execution_count": 138,
     "metadata": {},
     "output_type": "execute_result"
    },
    {
     "data": {
      "image/png": "[encoded data removed]",
      "text/plain": [
       "<Figure size 432x288 with 1 Axes>"
      ]
     },
     "metadata": {
      "needs_background": "light"
     },
     "output_type": "display_data"
    }
   ],
   "source": [
    "\n",
    "# 目的関数の出力 (loss)\n",
    "plt.plot(results_train['loss'], label='train')  # label で凡例の設定\n",
    "plt.plot(results_valid['loss'], label='valid')  # label で凡例の設定\n",
    "plt.legend()  # 凡例の表示"
   ]
  },
  {
   "cell_type": "code",
   "execution_count": 139,
   "metadata": {},
   "outputs": [
    {
     "data": {
      "text/plain": [
       "<matplotlib.legend.Legend at 0x2e806681c48>"
      ]
     },
     "execution_count": 139,
     "metadata": {},
     "output_type": "execute_result"
    },
    {
     "data": {
      "image/png": "[encoded data removed]",
      "text/plain": [
       "<Figure size 432x288 with 1 Axes>"
      ]
     },
     "metadata": {
      "needs_background": "light"
     },
     "output_type": "display_data"
    }
   ],
   "source": [
    "# 分類精度 (accuracy)\n",
    "plt.plot(results_train['accuracy'], label='train')  # label で凡例の設定\n",
    "plt.plot(results_valid['accuracy'], label='valid')  # label で凡例の設定\n",
    "plt.legend()  # 凡例の表"
   ]
  },
  {
   "cell_type": "code",
   "execution_count": 142,
   "metadata": {},
   "outputs": [],
   "source": [
    "from sklearn.metrics import confusion_matrix\n",
    "from sklearn.metrics import accuracy_score ,precision_score, recall_score,f1_score\n",
    "import seaborn as sns\n",
    "def result_heatmap(Y_test,Y_pred):\n",
    "    print(\"正解率:\"+str(accuracy_score(Y_test, Y_pred)))\n",
    "    print(\"適合率:\"+str(recall_score(Y_test,Y_pred)))\n",
    "    print(\"再現率:\"+str(precision_score(Y_test,Y_pred)))\n",
    "    print(\"F値:\"+str(f1_score(Y_test, Y_pred)))  \n",
    "    cm = confusion_matrix(Y_test, Y_pred)\n",
    "    print(cm)\n",
    "    sns.heatmap(cm,annot=True, cmap='Blues')"
   ]
  },
  {
   "cell_type": "code",
   "execution_count": 143,
   "metadata": {},
   "outputs": [],
   "source": [
    "\n",
    "with chainer.using_config('train', False), chainer.using_config('enable_backprop', False):\n",
    "    y_arr = net(X_valid)"
   ]
  },
  {
   "cell_type": "code",
   "execution_count": 144,
   "metadata": {},
   "outputs": [
    {
     "name": "stdout",
     "output_type": "stream",
     "text": [
      "variable([[ 0.04925942 -0.04567305]\n",
      "          [ 0.04792304 -0.05041052]\n",
      "          [ 0.06280781 -0.07467586]\n",
      "          ...\n",
      "          [ 0.04031956 -0.05780437]\n",
      "          [ 0.05473948 -0.05673169]\n",
      "          [ 0.04925462 -0.04890949]])\n"
     ]
    }
   ],
   "source": [
    "print(y_arr)"
   ]
  },
  {
   "cell_type": "code",
   "execution_count": 148,
   "metadata": {},
   "outputs": [],
   "source": [
    "'''\n",
    "y_pred = np.zeros(X_valid.shape[0])\n",
    "for i in range(X_valid.shape[0]):\n",
    "    y_pred[i] = np.argmax(y_arr[i].array)\n",
    "'''"
   ]
  },
  {
   "cell_type": "code",
   "execution_count": 153,
   "metadata": {},
   "outputs": [],
   "source": [
    "y_pred = (y_arr.array[:, 1] > -0.05).astype(int)"
   ]
  },
  {
   "cell_type": "code",
   "execution_count": 154,
   "metadata": {},
   "outputs": [
    {
     "name": "stdout",
     "output_type": "stream",
     "text": [
      "正解率:0.82154301207789\n",
      "適合率:0.12014134275618374\n",
      "再現率:0.06679764243614932\n",
      "F値:0.08585858585858586\n",
      "[[3299  475]\n",
      " [ 249   34]]\n"
     ]
    },
    {
     "data": {
      "image/png": "[encoded data removed]",
      "text/plain": [
       "<Figure size 432x288 with 2 Axes>"
      ]
     },
     "metadata": {
      "needs_background": "light"
     },
     "output_type": "display_data"
    }
   ],
   "source": [
    "result_heatmap(y_valid,y_pred)"
   ]
  },
  {
   "cell_type": "code",
   "execution_count": null,
   "metadata": {},
   "outputs": [],
   "source": []
  }
 ],
 "metadata": {
  "kernelspec": {
   "display_name": "Python 3",
   "language": "python",
   "name": "python3"
  },
  "language_info": {
   "codemirror_mode": {
    "name": "ipython",
    "version": 3
   },
   "file_extension": ".py",
   "mimetype": "text/x-python",
   "name": "python",
   "nbconvert_exporter": "python",
   "pygments_lexer": "ipython3",
   "version": "3.7.6"
  }
 },
 "nbformat": 4,
 "nbformat_minor": 4
}
