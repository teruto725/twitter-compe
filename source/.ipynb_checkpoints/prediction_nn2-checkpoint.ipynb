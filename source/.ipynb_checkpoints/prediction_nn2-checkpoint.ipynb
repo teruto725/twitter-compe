{
 "cells": [
  {
   "cell_type": "code",
   "execution_count": 1,
   "metadata": {},
   "outputs": [],
   "source": [
    "import re\n",
    "import numpy as np\n",
    "import matplotlib.pyplot as plt\n",
    "import pandas as pd\n",
    "import seaborn as sns\n",
    "import math"
   ]
  },
  {
   "cell_type": "code",
   "execution_count": 2,
   "metadata": {},
   "outputs": [
    {
     "name": "stdout",
     "output_type": "stream",
     "text": [
      "C:\\Users\\akite\\OneDrive\\デスクトップ\\source code\\twitter-compe\n"
     ]
    }
   ],
   "source": [
    "cd ../"
   ]
  },
  {
   "cell_type": "code",
   "execution_count": 3,
   "metadata": {},
   "outputs": [],
   "source": [
    "train_df = pd.read_csv('./data/preprosessing_train.csv')"
   ]
  },
  {
   "cell_type": "code",
   "execution_count": 4,
   "metadata": {},
   "outputs": [
    {
     "data": {
      "text/plain": [
       "(18851, 17)"
      ]
     },
     "execution_count": 4,
     "metadata": {},
     "output_type": "execute_result"
    }
   ],
   "source": [
    "one_train_df = train_df[train_df[\"flg\"]== 1]\n",
    "zero_train_df = train_df[train_df[\"flg\"]== 0]\n",
    "zero_train_df.shape"
   ]
  },
  {
   "cell_type": "code",
   "execution_count": 5,
   "metadata": {},
   "outputs": [],
   "source": [
    "X_one_df_train = one_train_df[[\"is_url\",\"is_location\",\"num_emoji\",\"num_reply\",\"num_hash\",\"text_length\",\"num_kusa\",\"is_date\",\"is_time\",\"text_wakati\"]]\n",
    "Y_one_df_train = one_train_df[\"flg\"].astype(np.int64)\n",
    "X_zero_df_train = zero_train_df[[\"is_url\",\"is_location\",\"num_emoji\",\"num_reply\",\"num_hash\",\"text_length\",\"num_kusa\",\"is_date\",\"is_time\",\"text_wakati\"]]\n",
    "Y_zero_df_train = zero_train_df[\"flg\"].astype(np.int64)\n",
    "X_one_train =  X_one_df_train.values\n",
    "y_one_train = Y_one_df_train.values\n",
    "X_zero_train =  X_zero_df_train.values\n",
    "y_zero_train = Y_zero_df_train.values\n",
    "from sklearn.model_selection import train_test_split\n",
    "X_one_train, X_one_valid, y_one_train, y_one_valid = train_test_split(X_one_train, y_one_train, train_size=0.8, random_state=1)\n",
    "X_zero_train, X_zero_valid, y_zero_train, y_zero_valid = train_test_split(X_zero_train, y_zero_train, train_size=0.8, random_state=1)\n",
    "X_valid = np.concatenate([X_one_valid,X_zero_valid],0)\n",
    "y_valid = np.concatenate([y_one_valid,y_zero_valid],0)"
   ]
  },
  {
   "cell_type": "code",
   "execution_count": 6,
   "metadata": {},
   "outputs": [
    {
     "name": "stdout",
     "output_type": "stream",
     "text": [
      "(1147, 10)\n",
      "(15080, 10)\n"
     ]
    }
   ],
   "source": [
    "print(X_one_train.shape)\n",
    "print(X_zero_train.shape)"
   ]
  },
  {
   "cell_type": "code",
   "execution_count": 7,
   "metadata": {},
   "outputs": [],
   "source": [
    "#特徴量配列\n",
    "X_one_train_feat = X_one_train[:,:8]\n",
    "X_zero_train_feat = X_zero_train[:,:8]\n",
    "X_valid_feat = X_valid[:,:8]"
   ]
  },
  {
   "cell_type": "code",
   "execution_count": 8,
   "metadata": {},
   "outputs": [],
   "source": [
    "#特徴量標準化\n",
    "from sklearn.preprocessing import StandardScaler\n",
    "from sklearn.preprocessing import MinMaxScaler\n",
    "ss = MinMaxScaler()\n",
    "ss.fit( np.concatenate([X_one_train_feat,X_zero_train_feat],0))\n",
    "X_one_train_feat_ss = ss.transform(X_one_train_feat)\n",
    "X_zero_train_feat_ss = ss.transform(X_zero_train_feat)\n",
    "X_valid_feat_ss = ss.transform(X_valid_feat)"
   ]
  },
  {
   "cell_type": "code",
   "execution_count": 9,
   "metadata": {},
   "outputs": [],
   "source": [
    "#単語ベクトル化\n",
    "from sklearn.feature_extraction.text import TfidfVectorizer, CountVectorizer\n",
    "cv = TfidfVectorizer(min_df=10/16228, max_df=5000/16228)\n",
    "cv.fit( np.concatenate([X_one_train[:,9],X_zero_train[:,9]],0))\n",
    "X_one_train_csr = cv.transform(X_one_train[:,9])\n",
    "X_zero_train_csr = cv.transform(X_zero_train[:,9])\n",
    "X_valid_csr = cv.transform(X_valid[:,9])"
   ]
  },
  {
   "cell_type": "code",
   "execution_count": 10,
   "metadata": {},
   "outputs": [],
   "source": [
    "#文字配列と特徴量の配列を結合する\n",
    "X_one_train = np.concatenate([X_one_train_csr.toarray(),X_one_train_feat_ss],1)\n",
    "X_zero_train = np.concatenate([X_zero_train_csr.toarray(),X_zero_train_feat_ss],1)\n",
    "X_valid = np.concatenate([X_valid_csr.toarray(),X_valid_feat_ss],1)"
   ]
  },
  {
   "cell_type": "code",
   "execution_count": 11,
   "metadata": {},
   "outputs": [],
   "source": [
    "#型変換\n",
    "X_one_train = X_one_train.astype(np.float32)\n",
    "X_zero_train = X_zero_train.astype(np.float32)\n",
    "X_valid = X_valid.astype(np.float32)"
   ]
  },
  {
   "cell_type": "code",
   "execution_count": 12,
   "metadata": {},
   "outputs": [],
   "source": [
    "#NN\n",
    "import chainer\n",
    "from chainer import training, iterators, optimizers, serializers, Chain\n",
    "import chainer.functions as F\n",
    "import chainer.links as L\n",
    " \n",
    "from chainer.training import extensions\n",
    "class Net(chainer.Chain):\n",
    "\n",
    "    def __init__(self, n_in=4, n_hidden=1000, n_out=3):\n",
    "        super().__init__()\n",
    "        with self.init_scope():\n",
    "            self.l1 = L.Linear(n_in, n_hidden)\n",
    "            self.l2 = L.Linear(n_hidden, n_hidden)\n",
    "            self.l3 = L.Linear(n_hidden, n_out)\n",
    "\n",
    "    def forward(self, x):\n",
    "        h = F.relu(self.l1(x))\n",
    "        h = F.relu(self.l2(h))\n",
    "        h = self.l3(h)\n",
    "\n",
    "        return h"
   ]
  },
  {
   "cell_type": "code",
   "execution_count": 13,
   "metadata": {},
   "outputs": [],
   "source": [
    "#ログ\n",
    "iteration = 0\n",
    "\n",
    "# ログの保存用\n",
    "results_train = {\n",
    "    'loss': [],\n",
    "    'accuracy': []\n",
    "}\n",
    "results_valid = {\n",
    "    'loss': [],\n",
    "    'accuracy': []\n",
    "}"
   ]
  },
  {
   "cell_type": "code",
   "execution_count": 14,
   "metadata": {},
   "outputs": [
    {
     "name": "stdout",
     "output_type": "stream",
     "text": [
      "(1147, 3798)\n",
      "(15080, 3798)\n",
      "(4058, 3798)\n",
      "(4058,)\n"
     ]
    }
   ],
   "source": [
    "print(X_one_train.shape)\n",
    "print(X_zero_train.shape)\n",
    "print(X_valid.shape)\n",
    "print(y_valid.shape)"
   ]
  },
  {
   "cell_type": "code",
   "execution_count": 15,
   "metadata": {},
   "outputs": [],
   "source": [
    "n_epoch = 50 #学習回数\n",
    "n_batchsize = 1147 #バッチサイズ\n",
    "net = Net(n_in =X_one_train.shape[1], n_hidden=10,n_out=2)"
   ]
  },
  {
   "cell_type": "code",
   "execution_count": 16,
   "metadata": {},
   "outputs": [],
   "source": [
    "from chainer import optimizers\n",
    "from chainer.optimizer_hooks import WeightDecay\n",
    "\n",
    "optimizer = optimizers.Adam()  # 学習率を 0.01 に設定\n",
    "optimizer.setup(net)\n",
    "for param in net.params():\n",
    "    if param.name != 'b':  # バイアス以外だったら\n",
    "        param.update_rule.add_hook(WeightDecay(0.0001))  "
   ]
  },
  {
   "cell_type": "code",
   "execution_count": null,
   "metadata": {},
   "outputs": [
    {
     "name": "stdout",
     "output_type": "stream",
     "text": [
      "epoch: 0, iteration: 14, loss (train): 0.6833, loss (valid): 0.6662\n",
      "epoch: 1, iteration: 28, loss (train): 0.6485, loss (valid): 0.6170\n",
      "epoch: 2, iteration: 42, loss (train): 0.5990, loss (valid): 0.5644\n",
      "epoch: 3, iteration: 56, loss (train): 0.5396, loss (valid): 0.5091\n",
      "epoch: 4, iteration: 70, loss (train): 0.4731, loss (valid): 0.4517\n",
      "epoch: 5, iteration: 84, loss (train): 0.4039, loss (valid): 0.3963\n",
      "epoch: 6, iteration: 98, loss (train): 0.3383, loss (valid): 0.3461\n",
      "epoch: 7, iteration: 112, loss (train): 0.2812, loss (valid): 0.3037\n"
     ]
    }
   ],
   "source": [
    "for epoch in range(n_epoch):\n",
    "\n",
    "    # データセット並べ替えた順番を取得\n",
    "    order = np.random.permutation(range(len(X_zero_train)))\n",
    "\n",
    "    # 各バッチ毎の目的関数の出力と分類精度の保存用\n",
    "    loss_list = []\n",
    "    accuracy_list = []\n",
    "\n",
    "    for i in range(0, len(order), len(X_one_train)):\n",
    "        index = order[i:i+len(X_one_train)]\n",
    "        #len(index)\n",
    "        X_zero_train_batch = X_zero_train[index,:]\n",
    "        X_train = np.concatenate([X_zero_train_batch,X_one_train],0)#連結した特徴量\n",
    "        y_train = np.concatenate([np.zeros(len(X_zero_train_batch)),np.ones(len(X_one_train))],0)#連結した目標値リスト\n",
    "        #print(y_train)\n",
    "        shuffle= np.random.permutation(range(len(X_train)))#シャッフル用数字\n",
    "        x_train_batch = np.zeros(X_train.shape,dtype=np.float32)\n",
    "        t_train_batch = np.zeros(len(y_train),dtype=np.int64)\n",
    "        for j in range(len(shuffle)):\n",
    "            x_train_batch[j] = X_train[shuffle[j]]\n",
    "            t_train_batch[j] = y_train[shuffle[j]]\n",
    "        #print(t_train_batch)\n",
    "        # 予測値を出力\n",
    "        y_train_batch = net(x_train_batch)\n",
    "\n",
    "        # 目的関数を適用し、分類精度を計算\n",
    "        loss_train_batch = F.softmax_cross_entropy(y_train_batch, t_train_batch)\n",
    "        accuracy_train_batch = F.accuracy(y_train_batch, t_train_batch)\n",
    "\n",
    "        loss_list.append(loss_train_batch.array)\n",
    "        accuracy_list.append(accuracy_train_batch.array)\n",
    "\n",
    "        # 勾配のリセットと勾配の計算\n",
    "        net.cleargrads()\n",
    "        loss_train_batch.backward()\n",
    "\n",
    "        # パラメータの更新\n",
    "        optimizer.update()\n",
    "\n",
    "        # カウントアップ\n",
    "        iteration += 1\n",
    "\n",
    "    # 訓練データに対する目的関数の出力と分類精度を集計\n",
    "    loss_train = np.mean(loss_list)\n",
    "    accuracy_train = np.mean(accuracy_list)\n",
    "\n",
    "    # 1エポック終えたら、検証データで評価\n",
    "    # 検証データで予測値を出力\n",
    "    with chainer.using_config('train', False), chainer.using_config('enable_backprop', False):\n",
    "        y_val = net(X_valid)\n",
    "\n",
    "    # 目的関数を適用し、分類精度を計算\n",
    "    loss_val = F.softmax_cross_entropy(y_val, y_valid)\n",
    "    accuracy_val = F.accuracy(y_val, y_valid)\n",
    "\n",
    "    # 結果の表示\n",
    "    print('epoch: {}, iteration: {}, loss (train): {:.4f}, loss (valid): {:.4f}'.format(\n",
    "        epoch, iteration, loss_train, loss_val.array))\n",
    "\n",
    "    # ログを保存\n",
    "    results_train['loss'] .append(loss_train)\n",
    "    results_train['accuracy'] .append(accuracy_train)\n",
    "    results_valid['loss'].append(loss_val.array)\n",
    "    results_valid['accuracy'].append(accuracy_val.array)"
   ]
  },
  {
   "cell_type": "code",
   "execution_count": null,
   "metadata": {},
   "outputs": [],
   "source": [
    "\n",
    "# 目的関数の出力 (loss)\n",
    "plt.plot(results_train['loss'], label='train')  # label で凡例の設定\n",
    "plt.plot(results_valid['loss'], label='valid')  # label で凡例の設定\n",
    "plt.legend()  # 凡例の表示"
   ]
  },
  {
   "cell_type": "code",
   "execution_count": null,
   "metadata": {},
   "outputs": [],
   "source": [
    "# 分類精度 (accuracy)\n",
    "plt.plot(results_train['accuracy'], label='train')  # label で凡例の設定\n",
    "plt.plot(results_valid['accuracy'], label='valid')  # label で凡例の設定\n",
    "plt.legend()  # 凡例の表"
   ]
  },
  {
   "cell_type": "code",
   "execution_count": null,
   "metadata": {},
   "outputs": [],
   "source": [
    "from sklearn.metrics import confusion_matrix\n",
    "from sklearn.metrics import accuracy_score ,precision_score, recall_score,f1_score\n",
    "import seaborn as sns\n",
    "def result_heatmap(Y_test,Y_pred):\n",
    "    print(\"正解率:\"+str(accuracy_score(Y_test, Y_pred)))\n",
    "    print(\"適合率:\"+str(recall_score(Y_test,Y_pred)))\n",
    "    print(\"再現率:\"+str(precision_score(Y_test,Y_pred)))\n",
    "    print(\"F値:\"+str(f1_score(Y_test, Y_pred)))  \n",
    "    cm = confusion_matrix(Y_test, Y_pred)\n",
    "    print(cm)\n",
    "    sns.heatmap(cm,annot=True, cmap='Blues')"
   ]
  },
  {
   "cell_type": "code",
   "execution_count": null,
   "metadata": {},
   "outputs": [],
   "source": [
    "\n",
    "with chainer.using_config('train', False), chainer.using_config('enable_backprop', False):\n",
    "    y_arr = net(X_valid)"
   ]
  },
  {
   "cell_type": "code",
   "execution_count": null,
   "metadata": {},
   "outputs": [],
   "source": [
    "print(y_arr)"
   ]
  },
  {
   "cell_type": "code",
   "execution_count": null,
   "metadata": {},
   "outputs": [],
   "source": [
    "\n",
    "y_pred = np.zeros(X_valid.shape[0])\n",
    "for i in range(X_valid.shape[0]):\n",
    "    y_pred[i] = np.argmax(y_arr[i].array)\n"
   ]
  },
  {
   "cell_type": "code",
   "execution_count": null,
   "metadata": {},
   "outputs": [],
   "source": [
    "result_heatmap(y_valid,y_pred)"
   ]
  },
  {
   "cell_type": "code",
   "execution_count": null,
   "metadata": {},
   "outputs": [],
   "source": []
  }
 ],
 "metadata": {
  "kernelspec": {
   "display_name": "Python 3",
   "language": "python",
   "name": "python3"
  },
  "language_info": {
   "codemirror_mode": {
    "name": "ipython",
    "version": 3
   },
   "file_extension": ".py",
   "mimetype": "text/x-python",
   "name": "python",
   "nbconvert_exporter": "python",
   "pygments_lexer": "ipython3",
   "version": "3.7.6"
  }
 },
 "nbformat": 4,
 "nbformat_minor": 4
}
