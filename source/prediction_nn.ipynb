{
 "cells": [
  {
   "cell_type": "code",
   "execution_count": 1,
   "metadata": {},
   "outputs": [],
   "source": [
    "import re\n",
    "import numpy as np\n",
    "import matplotlib.pyplot as plt\n",
    "import pandas as pd\n",
    "import seaborn as sns\n",
    "import math"
   ]
  },
  {
   "cell_type": "code",
   "execution_count": 2,
   "metadata": {},
   "outputs": [
    {
     "name": "stdout",
     "output_type": "stream",
     "text": [
      "C:\\Users\\akite\\OneDrive\\デスクトップ\\source code\\twitter-compe\n"
     ]
    }
   ],
   "source": [
    "cd ../"
   ]
  },
  {
   "cell_type": "code",
   "execution_count": 3,
   "metadata": {},
   "outputs": [],
   "source": [
    "train_df = pd.read_csv('./data/preprosessing_train.csv')"
   ]
  },
  {
   "cell_type": "code",
   "execution_count": 4,
   "metadata": {},
   "outputs": [
    {
     "data": {
      "text/plain": [
       "(18851, 17)"
      ]
     },
     "execution_count": 4,
     "metadata": {},
     "output_type": "execute_result"
    }
   ],
   "source": [
    "one_train_df = train_df[train_df[\"flg\"]== 1]\n",
    "zero_train_df = train_df[train_df[\"flg\"]== 0]\n",
    "zero_train_df.shape"
   ]
  },
  {
   "cell_type": "code",
   "execution_count": 5,
   "metadata": {},
   "outputs": [],
   "source": [
    "X_one_df_train = one_train_df[[\"is_url\",\"is_location\",\"num_emoji\",\"num_reply\",\"num_hash\",\"text_length\",\"num_kusa\",\"is_date\",\"is_time\",\"text_wakati\"]]\n",
    "Y_one_df_train = one_train_df[\"flg\"].astype(np.int64)\n",
    "X_zero_df_train = zero_train_df[[\"is_url\",\"is_location\",\"num_emoji\",\"num_reply\",\"num_hash\",\"text_length\",\"num_kusa\",\"is_date\",\"is_time\",\"text_wakati\"]]\n",
    "Y_zero_df_train = zero_train_df[\"flg\"].astype(np.int64)\n",
    "X_one_train =  X_one_df_train.values\n",
    "y_one_train = Y_one_df_train.values\n",
    "X_zero_train =  X_zero_df_train.values\n",
    "y_zero_train = Y_zero_df_train.values\n",
    "from sklearn.model_selection import train_test_split\n",
    "X_one_train, X_one_valid, y_one_train, y_one_valid = train_test_split(X_one_train, y_one_train, train_size=0.8, random_state=1)\n",
    "X_zero_train, X_zero_valid, y_zero_train, y_zero_valid = train_test_split(X_zero_train, y_zero_train, train_size=0.8, random_state=1)\n",
    "X_valid = np.concatenate([X_one_valid,X_zero_valid],0)\n",
    "y_valid = np.concatenate([y_one_valid,y_zero_valid],0)"
   ]
  },
  {
   "cell_type": "code",
   "execution_count": 6,
   "metadata": {},
   "outputs": [
    {
     "name": "stdout",
     "output_type": "stream",
     "text": [
      "(1147, 10)\n",
      "(15080, 10)\n"
     ]
    }
   ],
   "source": [
    "print(X_one_train.shape)\n",
    "print(X_zero_train.shape)"
   ]
  },
  {
   "cell_type": "code",
   "execution_count": 7,
   "metadata": {},
   "outputs": [],
   "source": [
    "#特徴量配列\n",
    "X_one_train_feat = X_one_train[:,:8]\n",
    "X_zero_train_feat = X_zero_train[:,:8]\n",
    "X_valid_feat = X_valid[:,:8]"
   ]
  },
  {
   "cell_type": "code",
   "execution_count": 8,
   "metadata": {},
   "outputs": [],
   "source": [
    "#特徴量標準化\n",
    "from sklearn.preprocessing import StandardScaler\n",
    "from sklearn.preprocessing import MinMaxScaler\n",
    "ss = MinMaxScaler()\n",
    "ss.fit( np.concatenate([X_one_train_feat,X_zero_train_feat],0))\n",
    "X_one_train_feat_ss = ss.transform(X_one_train_feat)\n",
    "X_zero_train_feat_ss = ss.transform(X_zero_train_feat)\n",
    "X_valid_feat_ss = ss.transform(X_valid_feat)"
   ]
  },
  {
   "cell_type": "code",
   "execution_count": 9,
   "metadata": {},
   "outputs": [],
   "source": [
    "#単語ベクトル化\n",
    "from sklearn.feature_extraction.text import TfidfVectorizer, CountVectorizer\n",
    "cv = TfidfVectorizer(min_df=10/16228, max_df=3000/16228)\n",
    "cv.fit( np.concatenate([X_one_train[:,9],X_zero_train[:,9]],0))\n",
    "X_one_train_csr = cv.transform(X_one_train[:,9])\n",
    "X_zero_train_csr = cv.transform(X_zero_train[:,9])\n",
    "X_valid_csr = cv.transform(X_valid[:,9])"
   ]
  },
  {
   "cell_type": "code",
   "execution_count": 10,
   "metadata": {},
   "outputs": [],
   "source": [
    "#文字配列と特徴量の配列を結合する\n",
    "X_one_train = np.concatenate([X_one_train_csr.toarray(),X_one_train_feat_ss],1)\n",
    "X_zero_train = np.concatenate([X_zero_train_csr.toarray(),X_zero_train_feat_ss],1)\n",
    "X_valid = np.concatenate([X_valid_csr.toarray(),X_valid_feat_ss],1)"
   ]
  },
  {
   "cell_type": "code",
   "execution_count": 11,
   "metadata": {},
   "outputs": [],
   "source": [
    "#型変換\n",
    "X_one_train = X_one_train.astype(np.float32)\n",
    "X_zero_train = X_zero_train.astype(np.float32)\n",
    "X_valid = X_valid.astype(np.float32)"
   ]
  },
  {
   "cell_type": "code",
   "execution_count": 12,
   "metadata": {},
   "outputs": [],
   "source": [
    "#NN\n",
    "import chainer\n",
    "from chainer import training, iterators, optimizers, serializers, Chain\n",
    "import chainer.functions as F\n",
    "import chainer.links as L\n",
    " \n",
    "from chainer.training import extensions\n",
    "class Net(chainer.Chain):\n",
    "\n",
    "    def __init__(self, n_in=4, n_hidden=1000, n_out=3):\n",
    "        super().__init__()\n",
    "        with self.init_scope():\n",
    "            self.l1 = L.Linear(n_in, n_hidden)\n",
    "            self.l2 = L.Linear(n_hidden, n_hidden)\n",
    "            self.l3 = L.Linear(n_hidden, n_out)\n",
    "\n",
    "    def forward(self, x):\n",
    "        h = F.relu(self.l1(x))\n",
    "        h = F.relu(self.l2(h))\n",
    "        h = self.l3(h)\n",
    "\n",
    "        return h"
   ]
  },
  {
   "cell_type": "code",
   "execution_count": 13,
   "metadata": {},
   "outputs": [],
   "source": [
    "#ログ\n",
    "iteration = 0\n",
    "\n",
    "# ログの保存用\n",
    "results_train = {\n",
    "    'loss': [],\n",
    "    'accuracy': []\n",
    "}\n",
    "results_valid = {\n",
    "    'loss': [],\n",
    "    'accuracy': []\n",
    "}"
   ]
  },
  {
   "cell_type": "code",
   "execution_count": 14,
   "metadata": {},
   "outputs": [
    {
     "name": "stdout",
     "output_type": "stream",
     "text": [
      "(1147, 3798)\n",
      "(15080, 3798)\n",
      "(4058, 3798)\n",
      "(4058,)\n"
     ]
    }
   ],
   "source": [
    "print(X_one_train.shape)\n",
    "print(X_zero_train.shape)\n",
    "print(X_valid.shape)\n",
    "print(y_valid.shape)"
   ]
  },
  {
   "cell_type": "code",
   "execution_count": 15,
   "metadata": {},
   "outputs": [],
   "source": [
    "n_epoch = 50 #学習回数\n",
    "n_batchsize = 1147 #バッチサイズ\n",
    "net = Net(n_in =X_one_train.shape[1], n_hidden=10,n_out=2)"
   ]
  },
  {
   "cell_type": "code",
   "execution_count": 16,
   "metadata": {},
   "outputs": [],
   "source": [
    "from chainer import optimizers\n",
    "from chainer.optimizer_hooks import WeightDecay\n",
    "\n",
    "optimizer = optimizers.Adam()  # 学習率を 0.01 に設定\n",
    "optimizer.setup(net)\n",
    "for param in net.params():\n",
    "    if param.name != 'b':  # バイアス以外だったら\n",
    "        param.update_rule.add_hook(WeightDecay(0.0001))  "
   ]
  },
  {
   "cell_type": "code",
   "execution_count": 17,
   "metadata": {},
   "outputs": [
    {
     "name": "stdout",
     "output_type": "stream",
     "text": [
      "epoch: 0, iteration: 14, loss (train): 0.6833, loss (valid): 0.6662\n",
      "epoch: 1, iteration: 28, loss (train): 0.6485, loss (valid): 0.6170\n",
      "epoch: 2, iteration: 42, loss (train): 0.5990, loss (valid): 0.5644\n",
      "epoch: 3, iteration: 56, loss (train): 0.5396, loss (valid): 0.5091\n",
      "epoch: 4, iteration: 70, loss (train): 0.4731, loss (valid): 0.4517\n",
      "epoch: 5, iteration: 84, loss (train): 0.4039, loss (valid): 0.3963\n",
      "epoch: 6, iteration: 98, loss (train): 0.3383, loss (valid): 0.3461\n",
      "epoch: 7, iteration: 112, loss (train): 0.2812, loss (valid): 0.3037\n",
      "epoch: 8, iteration: 126, loss (train): 0.2346, loss (valid): 0.2685\n",
      "epoch: 9, iteration: 140, loss (train): 0.1980, loss (valid): 0.2411\n",
      "epoch: 10, iteration: 154, loss (train): 0.1696, loss (valid): 0.2202\n",
      "epoch: 11, iteration: 168, loss (train): 0.1471, loss (valid): 0.2050\n",
      "epoch: 12, iteration: 182, loss (train): 0.1297, loss (valid): 0.1936\n",
      "epoch: 13, iteration: 196, loss (train): 0.1159, loss (valid): 0.1840\n",
      "epoch: 14, iteration: 210, loss (train): 0.1044, loss (valid): 0.1772\n",
      "epoch: 15, iteration: 224, loss (train): 0.0953, loss (valid): 0.1720\n",
      "epoch: 16, iteration: 238, loss (train): 0.0873, loss (valid): 0.1677\n",
      "epoch: 17, iteration: 252, loss (train): 0.0809, loss (valid): 0.1650\n",
      "epoch: 18, iteration: 266, loss (train): 0.0753, loss (valid): 0.1629\n",
      "epoch: 19, iteration: 280, loss (train): 0.0706, loss (valid): 0.1612\n",
      "epoch: 20, iteration: 294, loss (train): 0.0663, loss (valid): 0.1603\n",
      "epoch: 21, iteration: 308, loss (train): 0.0627, loss (valid): 0.1598\n",
      "epoch: 22, iteration: 322, loss (train): 0.0594, loss (valid): 0.1593\n",
      "epoch: 23, iteration: 336, loss (train): 0.0564, loss (valid): 0.1592\n",
      "epoch: 24, iteration: 350, loss (train): 0.0539, loss (valid): 0.1597\n",
      "epoch: 25, iteration: 364, loss (train): 0.0513, loss (valid): 0.1609\n",
      "epoch: 26, iteration: 378, loss (train): 0.0486, loss (valid): 0.1615\n",
      "epoch: 27, iteration: 392, loss (train): 0.0463, loss (valid): 0.1621\n",
      "epoch: 28, iteration: 406, loss (train): 0.0444, loss (valid): 0.1631\n",
      "epoch: 29, iteration: 420, loss (train): 0.0424, loss (valid): 0.1642\n",
      "epoch: 30, iteration: 434, loss (train): 0.0406, loss (valid): 0.1649\n",
      "epoch: 31, iteration: 448, loss (train): 0.0389, loss (valid): 0.1659\n",
      "epoch: 32, iteration: 462, loss (train): 0.0374, loss (valid): 0.1670\n",
      "epoch: 33, iteration: 476, loss (train): 0.0361, loss (valid): 0.1681\n",
      "epoch: 34, iteration: 490, loss (train): 0.0348, loss (valid): 0.1693\n",
      "epoch: 35, iteration: 504, loss (train): 0.0339, loss (valid): 0.1705\n",
      "epoch: 36, iteration: 518, loss (train): 0.0325, loss (valid): 0.1704\n",
      "epoch: 37, iteration: 532, loss (train): 0.0314, loss (valid): 0.1726\n",
      "epoch: 38, iteration: 546, loss (train): 0.0303, loss (valid): 0.1729\n",
      "epoch: 39, iteration: 560, loss (train): 0.0293, loss (valid): 0.1743\n",
      "epoch: 40, iteration: 574, loss (train): 0.0286, loss (valid): 0.1756\n",
      "epoch: 41, iteration: 588, loss (train): 0.0278, loss (valid): 0.1762\n",
      "epoch: 42, iteration: 602, loss (train): 0.0270, loss (valid): 0.1779\n",
      "epoch: 43, iteration: 616, loss (train): 0.0261, loss (valid): 0.1785\n",
      "epoch: 44, iteration: 630, loss (train): 0.0254, loss (valid): 0.1799\n",
      "epoch: 45, iteration: 644, loss (train): 0.0249, loss (valid): 0.1802\n",
      "epoch: 46, iteration: 658, loss (train): 0.0242, loss (valid): 0.1811\n",
      "epoch: 47, iteration: 672, loss (train): 0.0237, loss (valid): 0.1826\n",
      "epoch: 48, iteration: 686, loss (train): 0.0231, loss (valid): 0.1831\n",
      "epoch: 49, iteration: 700, loss (train): 0.0224, loss (valid): 0.1849\n"
     ]
    }
   ],
   "source": [
    "for epoch in range(n_epoch):\n",
    "\n",
    "    # データセット並べ替えた順番を取得\n",
    "    order = np.random.permutation(range(len(X_zero_train)))\n",
    "\n",
    "    # 各バッチ毎の目的関数の出力と分類精度の保存用\n",
    "    loss_list = []\n",
    "    accuracy_list = []\n",
    "\n",
    "    for i in range(0, len(order), len(X_one_train)):\n",
    "        index = order[i:i+len(X_one_train)]\n",
    "        #len(index)\n",
    "        X_zero_train_batch = X_zero_train[index,:]\n",
    "        X_train = np.concatenate([X_zero_train_batch,X_one_train],0)#連結した特徴量\n",
    "        y_train = np.concatenate([np.zeros(len(X_zero_train_batch)),np.ones(len(X_one_train))],0)#連結した目標値リスト\n",
    "        #print(y_train)\n",
    "        shuffle= np.random.permutation(range(len(X_train)))#シャッフル用数字\n",
    "        x_train_batch = np.zeros(X_train.shape,dtype=np.float32)\n",
    "        t_train_batch = np.zeros(len(y_train),dtype=np.int64)\n",
    "        for j in range(len(shuffle)):\n",
    "            x_train_batch[j] = X_train[shuffle[j]]\n",
    "            t_train_batch[j] = y_train[shuffle[j]]\n",
    "        #print(t_train_batch)\n",
    "        # 予測値を出力\n",
    "        y_train_batch = net(x_train_batch)\n",
    "\n",
    "        # 目的関数を適用し、分類精度を計算\n",
    "        loss_train_batch = F.softmax_cross_entropy(y_train_batch, t_train_batch)\n",
    "        accuracy_train_batch = F.accuracy(y_train_batch, t_train_batch)\n",
    "\n",
    "        loss_list.append(loss_train_batch.array)\n",
    "        accuracy_list.append(accuracy_train_batch.array)\n",
    "\n",
    "        # 勾配のリセットと勾配の計算\n",
    "        net.cleargrads()\n",
    "        loss_train_batch.backward()\n",
    "\n",
    "        # パラメータの更新\n",
    "        optimizer.update()\n",
    "\n",
    "        # カウントアップ\n",
    "        iteration += 1\n",
    "\n",
    "    # 訓練データに対する目的関数の出力と分類精度を集計\n",
    "    loss_train = np.mean(loss_list)\n",
    "    accuracy_train = np.mean(accuracy_list)\n",
    "\n",
    "    # 1エポック終えたら、検証データで評価\n",
    "    # 検証データで予測値を出力\n",
    "    with chainer.using_config('train', False), chainer.using_config('enable_backprop', False):\n",
    "        y_val = net(X_valid)\n",
    "\n",
    "    # 目的関数を適用し、分類精度を計算\n",
    "    loss_val = F.softmax_cross_entropy(y_val, y_valid)\n",
    "    accuracy_val = F.accuracy(y_val, y_valid)\n",
    "\n",
    "    # 結果の表示\n",
    "    print('epoch: {}, iteration: {}, loss (train): {:.4f}, loss (valid): {:.4f}'.format(\n",
    "        epoch, iteration, loss_train, loss_val.array))\n",
    "\n",
    "    # ログを保存\n",
    "    results_train['loss'] .append(loss_train)\n",
    "    results_train['accuracy'] .append(accuracy_train)\n",
    "    results_valid['loss'].append(loss_val.array)\n",
    "    results_valid['accuracy'].append(accuracy_val.array)"
   ]
  },
  {
   "cell_type": "code",
   "execution_count": 18,
   "metadata": {},
   "outputs": [
    {
     "data": {
      "text/plain": [
       "<matplotlib.legend.Legend at 0x1ac0559dd08>"
      ]
     },
     "execution_count": 18,
     "metadata": {},
     "output_type": "execute_result"
    },
    {
     "data": {
      "image/png": "[encoded data removed]",
      "text/plain": [
       "<Figure size 432x288 with 1 Axes>"
      ]
     },
     "metadata": {
      "needs_background": "light"
     },
     "output_type": "display_data"
    }
   ],
   "source": [
    "\n",
    "# 目的関数の出力 (loss)\n",
    "plt.plot(results_train['loss'], label='train')  # label で凡例の設定\n",
    "plt.plot(results_valid['loss'], label='valid')  # label で凡例の設定\n",
    "plt.legend()  # 凡例の表示"
   ]
  },
  {
   "cell_type": "code",
   "execution_count": 19,
   "metadata": {},
   "outputs": [
    {
     "data": {
      "text/plain": [
       "<matplotlib.legend.Legend at 0x1ac056e62c8>"
      ]
     },
     "execution_count": 19,
     "metadata": {},
     "output_type": "execute_result"
    },
    {
     "data": {
      "image/png": "[encoded data removed]",
      "text/plain": [
       "<Figure size 432x288 with 1 Axes>"
      ]
     },
     "metadata": {
      "needs_background": "light"
     },
     "output_type": "display_data"
    }
   ],
   "source": [
    "# 分類精度 (accuracy)\n",
    "plt.plot(results_train['accuracy'], label='train')  # label で凡例の設定\n",
    "plt.plot(results_valid['accuracy'], label='valid')  # label で凡例の設定\n",
    "plt.legend()  # 凡例の表"
   ]
  },
  {
   "cell_type": "code",
   "execution_count": 20,
   "metadata": {},
   "outputs": [],
   "source": [
    "from sklearn.metrics import confusion_matrix\n",
    "from sklearn.metrics import accuracy_score ,precision_score, recall_score,f1_score\n",
    "import seaborn as sns\n",
    "def result_heatmap(Y_test,Y_pred):\n",
    "    print(\"正解率:\"+str(accuracy_score(Y_test, Y_pred)))\n",
    "    print(\"適合率:\"+str(recall_score(Y_test,Y_pred)))\n",
    "    print(\"再現率:\"+str(precision_score(Y_test,Y_pred)))\n",
    "    print(\"F値:\"+str(f1_score(Y_test, Y_pred)))  \n",
    "    cm = confusion_matrix(Y_test, Y_pred)\n",
    "    print(cm)\n",
    "    sns.heatmap(cm,annot=True, cmap='Blues')"
   ]
  },
  {
   "cell_type": "code",
   "execution_count": 21,
   "metadata": {},
   "outputs": [],
   "source": [
    "\n",
    "with chainer.using_config('train', False), chainer.using_config('enable_backprop', False):\n",
    "    y_arr = net(X_valid)"
   ]
  },
  {
   "cell_type": "code",
   "execution_count": 22,
   "metadata": {},
   "outputs": [
    {
     "name": "stdout",
     "output_type": "stream",
     "text": [
      "variable([[-6.386753    4.1123943 ]\n",
      "          [-2.0180018   1.1183648 ]\n",
      "          [ 0.37861565 -0.6112241 ]\n",
      "          ...\n",
      "          [ 2.8787844  -2.6524467 ]\n",
      "          [ 3.1880794  -2.8493106 ]\n",
      "          [ 3.476538   -3.149111  ]])\n"
     ]
    }
   ],
   "source": [
    "print(y_arr)"
   ]
  },
  {
   "cell_type": "code",
   "execution_count": 23,
   "metadata": {},
   "outputs": [],
   "source": [
    "\n",
    "y_pred = np.zeros(X_valid.shape[0])\n",
    "for i in range(X_valid.shape[0]):\n",
    "    y_pred[i] = np.argmax(y_arr[i].array)\n"
   ]
  },
  {
   "cell_type": "code",
   "execution_count": 24,
   "metadata": {},
   "outputs": [
    {
     "name": "stdout",
     "output_type": "stream",
     "text": [
      "正解率:0.9440611138491868\n",
      "適合率:0.7456445993031359\n",
      "再現率:0.5815217391304348\n",
      "F値:0.6534351145038169\n",
      "[[3617  154]\n",
      " [  73  214]]\n"
     ]
    },
    {
     "data": {
      "image/png": "[encoded data removed]",
      "text/plain": [
       "<Figure size 432x288 with 2 Axes>"
      ]
     },
     "metadata": {
      "needs_background": "light"
     },
     "output_type": "display_data"
    }
   ],
   "source": [
    "result_heatmap(y_valid,y_pred)"
   ]
  },
  {
   "cell_type": "code",
   "execution_count": null,
   "metadata": {},
   "outputs": [],
   "source": []
  }
 ],
 "metadata": {
  "kernelspec": {
   "display_name": "Python 3",
   "language": "python",
   "name": "python3"
  },
  "language_info": {
   "codemirror_mode": {
    "name": "ipython",
    "version": 3
   },
   "file_extension": ".py",
   "mimetype": "text/x-python",
   "name": "python",
   "nbconvert_exporter": "python",
   "pygments_lexer": "ipython3",
   "version": "3.7.6"
  }
 },
 "nbformat": 4,
 "nbformat_minor": 4
}
